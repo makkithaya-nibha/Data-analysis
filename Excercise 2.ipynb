{
 "cells": [
  {
   "cell_type": "code",
   "execution_count": null,
   "id": "bd44b8ff",
   "metadata": {},
   "outputs": [
    {
     "ename": "",
     "evalue": "",
     "output_type": "error",
     "traceback": [
      "\u001b[1;31mRunning cells with 'Python 3.10.4 64-bit' requires ipykernel package.\n",
      "\u001b[1;31mRun the following command to install 'ipykernel' into the Python environment. \n",
      "\u001b[1;31mCommand: 'c:/Users/codes/AppData/Local/Programs/Python/Python310/python.exe -m pip install ipykernel -U --user --force-reinstall'"
     ]
    }
   ],
   "source": [
    "#Q1 - Find the car with the best mpg\n",
    "#reading the csv file\n",
    "import pandas as p\n",
    "x = p.read_csv(\"E:\\\\shrudex\\\\downloads\\\\ida_lab\\\\mtcars.csv\")\n",
    "#displaying the csv file in tabular form\n",
    "x\n",
    "#questions solving begins\n",
    "mpg = x[\"mpg\"].values.tolist()\n",
    "model = x[\"model\"].values.tolist()\n",
    "max = 0\n",
    "for i in range (0, len(mpg)):\n",
    "    if (mpg[i]>mpg[max]):\n",
    "        max = i\n",
    "print(\"Car with the best mpg is :\", model[max],\"with\", mpg[max],\"mpg\")"
   ]
  },
  {
   "cell_type": "code",
   "execution_count": null,
   "id": "13f633b1",
   "metadata": {},
   "outputs": [
    {
     "ename": "",
     "evalue": "",
     "output_type": "error",
     "traceback": [
      "\u001b[1;31mRunning cells with 'Python 3.10.4 64-bit' requires ipykernel package.\n",
      "\u001b[1;31mRun the following command to install 'ipykernel' into the Python environment. \n",
      "\u001b[1;31mCommand: 'c:/Users/codes/AppData/Local/Programs/Python/Python310/python.exe -m pip install ipykernel -U --user --force-reinstall'"
     ]
    }
   ],
   "source": [
    "#Q2 - Find the car with the worst mpg\n",
    "min = 0\n",
    "for i in range (0, len(mpg)):\n",
    "    if (mpg[i]<mpg[min]):\n",
    "        min = i\n",
    "print(\"Car with the worst mpg is :\", model[min],\"with\", mpg[min],\"mpg\")\n"
   ]
  },
  {
   "cell_type": "code",
   "execution_count": null,
   "id": "50b1e603",
   "metadata": {},
   "outputs": [
    {
     "ename": "",
     "evalue": "",
     "output_type": "error",
     "traceback": [
      "\u001b[1;31mRunning cells with 'Python 3.10.4 64-bit' requires ipykernel package.\n",
      "\u001b[1;31mRun the following command to install 'ipykernel' into the Python environment. \n",
      "\u001b[1;31mCommand: 'c:/Users/codes/AppData/Local/Programs/Python/Python310/python.exe -m pip install ipykernel -U --user --force-reinstall'"
     ]
    }
   ],
   "source": [
    "#Q3 - Find the car with the best horsepower\n",
    "hp = x[\"hp\"].values.tolist()\n",
    "hp_max = 0\n",
    "for i in range (0, len(mpg)):\n",
    "    if (hp[i]>hp[hp_max]):\n",
    "        hp_max = i\n",
    "print(\"Car with the best horsepower is :\", model[hp_max],\"with\", hp[hp_max],\"horsepower\")"
   ]
  },
  {
   "cell_type": "code",
   "execution_count": null,
   "id": "4cc91fbb",
   "metadata": {},
   "outputs": [
    {
     "ename": "",
     "evalue": "",
     "output_type": "error",
     "traceback": [
      "\u001b[1;31mRunning cells with 'Python 3.10.4 64-bit' requires ipykernel package.\n",
      "\u001b[1;31mRun the following command to install 'ipykernel' into the Python environment. \n",
      "\u001b[1;31mCommand: 'c:/Users/codes/AppData/Local/Programs/Python/Python310/python.exe -m pip install ipykernel -U --user --force-reinstall'"
     ]
    }
   ],
   "source": [
    "#Q4 - Find 5 number summary of displacement\n",
    "disp = x[\"disp\"].values.tolist()\n",
    "print(\"Summary of displacement : \")\n",
    "p.DataFrame(disp).describe()\n"
   ]
  },
  {
   "cell_type": "code",
   "execution_count": null,
   "id": "59bcef52",
   "metadata": {},
   "outputs": [
    {
     "ename": "",
     "evalue": "",
     "output_type": "error",
     "traceback": [
      "\u001b[1;31mRunning cells with 'Python 3.10.4 64-bit' requires ipykernel package.\n",
      "\u001b[1;31mRun the following command to install 'ipykernel' into the Python environment. \n",
      "\u001b[1;31mCommand: 'c:/Users/codes/AppData/Local/Programs/Python/Python310/python.exe -m pip install ipykernel -U --user --force-reinstall'"
     ]
    }
   ],
   "source": [
    "#Q5 - Find median horse power\n",
    "med_hp = x[\"hp\"].median()\n",
    "print(\"Median Horse Power is :\",med_hp)"
   ]
  },
  {
   "cell_type": "code",
   "execution_count": null,
   "id": "bb427651",
   "metadata": {},
   "outputs": [
    {
     "ename": "",
     "evalue": "",
     "output_type": "error",
     "traceback": [
      "\u001b[1;31mRunning cells with 'Python 3.10.4 64-bit' requires ipykernel package.\n",
      "\u001b[1;31mRun the following command to install 'ipykernel' into the Python environment. \n",
      "\u001b[1;31mCommand: 'c:/Users/codes/AppData/Local/Programs/Python/Python310/python.exe -m pip install ipykernel -U --user --force-reinstall'"
     ]
    }
   ],
   "source": [
    "#Q6 - What is average mpg for manual vs. automatic cars\n",
    "from matplotlib import pyplot as pp\n",
    "am = x[\"am\"].values.tolist()\n",
    "sum_a = 0\n",
    "count_a = 0\n",
    "sum_m = 0\n",
    "count_m = 0\n",
    "for i in range(0, len(mpg)):\n",
    "    if (am[i]==1):\n",
    "        sum_a+=mpg[i]\n",
    "        count_a+=1\n",
    "    else:\n",
    "        sum_m+=mpg[i]\n",
    "        count_m+=1\n",
    "print(\"Average mpg for MANUAL is :\", sum_m/count_m,\"and for AUTOMATIC is :\", sum_a/count_a)\n",
    "x1 = [\"MANUAL\", \"AUTOMATIC\"]\n",
    "y1 = [sum_m/count_m, sum_a/count_a]\n",
    "pp.plot(x1, y1)"
   ]
  },
  {
   "cell_type": "code",
   "execution_count": null,
   "id": "44566d32",
   "metadata": {},
   "outputs": [
    {
     "ename": "",
     "evalue": "",
     "output_type": "error",
     "traceback": [
      "\u001b[1;31mRunning cells with 'Python 3.10.4 64-bit' requires ipykernel package.\n",
      "\u001b[1;31mRun the following command to install 'ipykernel' into the Python environment. \n",
      "\u001b[1;31mCommand: 'c:/Users/codes/AppData/Local/Programs/Python/Python310/python.exe -m pip install ipykernel -U --user --force-reinstall'"
     ]
    }
   ],
   "source": [
    "#Q7 - Draw a histogram of miles per gallon\n",
    "pp.hist(x['mpg'], bins = 10, align='mid', color='cyan', edgecolor='black')"
   ]
  },
  {
   "cell_type": "code",
   "execution_count": null,
   "id": "221e97b4",
   "metadata": {},
   "outputs": [
    {
     "ename": "",
     "evalue": "",
     "output_type": "error",
     "traceback": [
      "\u001b[1;31mRunning cells with 'Python 3.10.4 64-bit' requires ipykernel package.\n",
      "\u001b[1;31mRun the following command to install 'ipykernel' into the Python environment. \n",
      "\u001b[1;31mCommand: 'c:/Users/codes/AppData/Local/Programs/Python/Python310/python.exe -m pip install ipykernel -U --user --force-reinstall'"
     ]
    }
   ],
   "source": [
    "#Q8 - Boxplot of mpg for each cylinder type\n",
    "cyl = x[\"cyl\"].values.tolist()\n",
    "mp4=[]\n",
    "mp6=[]\n",
    "mp8=[]\n",
    "for i in range(0, len(cyl)):\n",
    "    if (cyl[i]==4):\n",
    "        mp4.append(mpg[i])\n",
    "    if (cyl[i]==6):\n",
    "        mp6.append(mpg[i])\n",
    "    if (cyl[i]==8):\n",
    "        mp8.append(mpg[i])\n",
    "data = [mp4, mp6, mp8]\n",
    "box = pp.boxplot(data,vert=0,patch_artist=True,labels=[\"4 cylinders\", \"6 cylinders\", \"8 cylinders\"])\n",
    "colors = ['turquoise', 'yellow', 'green']\n",
    "for patch, color in zip(box['boxes'], colors):\n",
    "    patch.set_facecolor(color)\n",
    "pp.show()\n"
   ]
  },
  {
   "cell_type": "code",
   "execution_count": null,
   "id": "c8a8dfd8",
   "metadata": {},
   "outputs": [
    {
     "ename": "",
     "evalue": "",
     "output_type": "error",
     "traceback": [
      "\u001b[1;31mRunning cells with 'Python 3.10.4 64-bit' requires ipykernel package.\n",
      "\u001b[1;31mRun the following command to install 'ipykernel' into the Python environment. \n",
      "\u001b[1;31mCommand: 'c:/Users/codes/AppData/Local/Programs/Python/Python310/python.exe -m pip install ipykernel -U --user --force-reinstall'"
     ]
    }
   ],
   "source": [
    "#Q9 - Create a crosstab displaying count of automatic vs. manual cars\n",
    "import pandas as p\n",
    "p.crosstab(index = x['am'], columns=[\"AUTOMATIC\", \"MANUAL\"])"
   ]
  },
  {
   "cell_type": "code",
   "execution_count": null,
   "id": "a07fde80",
   "metadata": {},
   "outputs": [
    {
     "ename": "",
     "evalue": "",
     "output_type": "error",
     "traceback": [
      "\u001b[1;31mRunning cells with 'Python 3.10.4 64-bit' requires ipykernel package.\n",
      "\u001b[1;31mRun the following command to install 'ipykernel' into the Python environment. \n",
      "\u001b[1;31mCommand: 'c:/Users/codes/AppData/Local/Programs/Python/Python310/python.exe -m pip install ipykernel -U --user --force-reinstall'"
     ]
    }
   ],
   "source": [
    "#Q10 - Create a crosstab displaying count of “am vs cyl”\n",
    "import pandas as p\n",
    "p.crosstab(x.am, x.cyl)"
   ]
  },
  {
   "cell_type": "code",
   "execution_count": null,
   "id": "fad4523c",
   "metadata": {},
   "outputs": [
    {
     "ename": "",
     "evalue": "",
     "output_type": "error",
     "traceback": [
      "\u001b[1;31mRunning cells with 'Python 3.10.4 64-bit' requires ipykernel package.\n",
      "\u001b[1;31mRun the following command to install 'ipykernel' into the Python environment. \n",
      "\u001b[1;31mCommand: 'c:/Users/codes/AppData/Local/Programs/Python/Python310/python.exe -m pip install ipykernel -U --user --force-reinstall'"
     ]
    }
   ],
   "source": [
    "#Q11 - What is the correlation between the weight of the car and mpg\n",
    "correlation= x['wt'].corr(x['mpg'])\n",
    "print(correlation)"
   ]
  },
  {
   "cell_type": "code",
   "execution_count": null,
   "id": "406e96e1",
   "metadata": {},
   "outputs": [
    {
     "ename": "",
     "evalue": "",
     "output_type": "error",
     "traceback": [
      "\u001b[1;31mRunning cells with 'Python 3.10.4 64-bit' requires ipykernel package.\n",
      "\u001b[1;31mRun the following command to install 'ipykernel' into the Python environment. \n",
      "\u001b[1;31mCommand: 'c:/Users/codes/AppData/Local/Programs/Python/Python310/python.exe -m pip install ipykernel -U --user --force-reinstall'"
     ]
    }
   ],
   "source": [
    "#Q12 - What is the median weight of the cars?\n",
    "med_wt = x[\"wt\"].median()\n",
    "print(\"Median Weight is :\",med_wt)"
   ]
  },
  {
   "cell_type": "code",
   "execution_count": null,
   "id": "c6c6421f",
   "metadata": {},
   "outputs": [
    {
     "ename": "",
     "evalue": "",
     "output_type": "error",
     "traceback": [
      "\u001b[1;31mRunning cells with 'Python 3.10.4 64-bit' requires ipykernel package.\n",
      "\u001b[1;31mRun the following command to install 'ipykernel' into the Python environment. \n",
      "\u001b[1;31mCommand: 'c:/Users/codes/AppData/Local/Programs/Python/Python310/python.exe -m pip install ipykernel -U --user --force-reinstall'"
     ]
    }
   ],
   "source": [
    "#Q13 - What no of gears cars are maximum in number?\n",
    "mode_g = x.mode()\n",
    "ans = mode_g[\"gear\"].values.tolist()\n",
    "ans = ans[0]\n",
    "print(ans,\"no. of gears cars are maximum in number\")"
   ]
  },
  {
   "cell_type": "code",
   "execution_count": null,
   "id": "f7f5c96c",
   "metadata": {},
   "outputs": [
    {
     "ename": "",
     "evalue": "",
     "output_type": "error",
     "traceback": [
      "\u001b[1;31mRunning cells with 'Python 3.10.4 64-bit' requires ipykernel package.\n",
      "\u001b[1;31mRun the following command to install 'ipykernel' into the Python environment. \n",
      "\u001b[1;31mCommand: 'c:/Users/codes/AppData/Local/Programs/Python/Python310/python.exe -m pip install ipykernel -U --user --force-reinstall'"
     ]
    }
   ],
   "source": []
  }
 ],
 "metadata": {
  "kernelspec": {
   "display_name": "Python 3.10.4 64-bit",
   "language": "python",
   "name": "python3"
  },
  "language_info": {
   "codemirror_mode": {
    "name": "ipython",
    "version": 3
   },
   "file_extension": ".py",
   "mimetype": "text/x-python",
   "name": "python",
   "nbconvert_exporter": "python",
   "pygments_lexer": "ipython3",
   "version": "3.10.4"
  },
  "vscode": {
   "interpreter": {
    "hash": "3685a5eab0ac8e6a58f0d6e3e059492e6e8e2eaf14d0e6d7723cc4585e911982"
   }
  }
 },
 "nbformat": 4,
 "nbformat_minor": 5
}
