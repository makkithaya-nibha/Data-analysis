{
 "cells": [
  {
   "cell_type": "code",
   "execution_count": null,
   "id": "472d90b7",
   "metadata": {},
   "outputs": [],
   "source": [
    "#1. Create a data frame with details of 10 students and columns as Roll Number, Name, Gender, Marks1, Marks2, Marks3\n",
    "import pandas as p\n",
    "roll = [1, 2, 3, 4, 5, 6, 7, 8, 9, 10]\n",
    "name = [\"Shubh Sinha\", \"Steve Smith\", \"Sonakshi Sinha\", \"Elon Musk\", \"Glenn Maxwell\", \"Shweta Singh\", \"Anushka Joshi\", \"Hashim Amla\",]\n",
    "gender = [\"M\", \"M\", \"F\", \"M\", \"M\", \"F\", \"F\", \"M\", \"F\", \"M\"]\n",
    "m1 = [100, 97, 63, 24, 52, 92, 71, 53, 63, 89]\n",
    "m2 = [97, 12, 65, 74, 42, 99, 43, 38, 87, 73]\n",
    "m3 = [93, 69, 98, 12, 13, 3, 46, 78, 77, 98]\n",
    "dict = {\"ROLL NO\":roll, \"NAME\":name, \"GENDER\":gender, \"MARKS 1\":m1, \"MARKS 2\":m2, \"MARKS 3\":m3}\n",
    "x = p.DataFrame(dict)\n",
    "x\n"
   ]
  },
  {
   "cell_type": "code",
   "execution_count": null,
   "id": "57a53ddf",
   "metadata": {},
   "outputs": [],
   "source": [
    "#2. Create a new column with total marks\n",
    "tm = []\n",
    "for i in range(0, 10):\n",
    "    sum = m1[i] + m2[i] + m3[i]\n",
    "    tm.append(sum)\n",
    "dict[\"TOTAL MARKS\"]=tm\n",
    "x1 = p.DataFrame(dict)\n",
    "x1"
   ]
  },
  {
   "cell_type": "code",
   "execution_count": null,
   "id": "4e439c6f",
   "metadata": {},
   "outputs": [],
   "source": [
    "#3. Find the lowest marks in Marks1\n",
    "min=0\n",
    "for i in range(0, 10):\n",
    "    if (m1[i]<m1[min]):\n",
    "        min = i\n",
    "print(name[min],\"has the lowest marks in Marks 1 :\", m1[min])"
   ]
  },
  {
   "cell_type": "code",
   "execution_count": null,
   "id": "156011f2",
   "metadata": {},
   "outputs": [],
   "source": [
    "#4. Find the Highest marks in Marks2\n",
    "max=0\n",
    "for i in range(0, 10):\n",
    "    if (m2[i]>m2[max]):\n",
    "        max = i\n",
    "print(name[max],\"has the highest marks in Marks 2 :\", m2[max])"
   ]
  },
  {
   "cell_type": "code",
   "execution_count": null,
   "id": "4fb963e2",
   "metadata": {},
   "outputs": [],
   "source": [
    "#5. Find the average marks in Marks3\n",
    "sum=0\n",
    "for i in range(0, 10):\n",
    "    sum+=m3[i]\n",
    "avg=sum/10\n",
    "print(\"Average marks in Marks 3 :\", avg)"
   ]
  },
  {
   "cell_type": "code",
   "execution_count": null,
   "id": "e4e2fefa",
   "metadata": {},
   "outputs": [],
   "source": [
    "#6. Find student name with highest average\n",
    "avg = 0\n",
    "for i in range(0, 10):\n",
    "    if (tm[i] > tm[avg]):\n",
    "        avg = i\n",
    "print(name[avg],\"has the highest average marks :\", tm[avg]/3)"
   ]
  },
  {
   "cell_type": "code",
   "execution_count": null,
   "id": "e1910d72",
   "metadata": {},
   "outputs": [],
   "source": [
    "#7. Find how many students failed in Marks2 (<40)\n",
    "f = 0\n",
    "for i in range(0, 10):\n",
    "    if (m2[i]<40):\n",
    "        f+=1\n",
    "print(f,\"students failed in Marks 2\")"
   ]
  },
  {
   "cell_type": "code",
   "execution_count": null,
   "id": "1f5c5f2f",
   "metadata": {},
   "outputs": [],
   "source": [
    "#8. Find how many students have average over 75\n",
    "count=0\n",
    "for i in range(0, 10):\n",
    "    avg = tm[i]/3\n",
    "    if (avg>75):\n",
    "        count+=1\n",
    "print(count, \"students have average over 75\")"
   ]
  },
  {
   "cell_type": "code",
   "execution_count": null,
   "id": "76b86eb7",
   "metadata": {},
   "outputs": [],
   "source": [
    "#9. Print the first 7 values of the data frame\n",
    "print(\"The first 7 values of the data frame :\")\n",
    "x.head(n=7)"
   ]
  },
  {
   "cell_type": "code",
   "execution_count": null,
   "id": "3c4820a5",
   "metadata": {},
   "outputs": [],
   "source": [
    "#10. Show the 3rd, 5th and 8th observations from the data frame\n",
    "print(\"The 3rd, 5th and the 8th observations from the data frame are :\")\n",
    "x.loc[[3, 5, 8]]"
   ]
  },
  {
   "cell_type": "code",
   "execution_count": null,
   "id": "c9a5b43d",
   "metadata": {},
   "outputs": [],
   "source": []
  }
 ],
 "metadata": {
  "kernelspec": {
   "display_name": "Python 3.10.4 64-bit",
   "language": "python",
   "name": "python3"
  },
  "language_info": {
   "codemirror_mode": {
    "name": "ipython",
    "version": 3
   },
   "file_extension": ".py",
   "mimetype": "text/x-python",
   "name": "python",
   "nbconvert_exporter": "python",
   "pygments_lexer": "ipython3",
   "version": "3.10.4"
  },
  "vscode": {
   "interpreter": {
    "hash": "3685a5eab0ac8e6a58f0d6e3e059492e6e8e2eaf14d0e6d7723cc4585e911982"
   }
  }
 },
 "nbformat": 4,
 "nbformat_minor": 5
}
