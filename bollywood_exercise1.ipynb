{
 "cells": [
  {
   "cell_type": "code",
   "execution_count": 2,
   "id": "840ea7a8",
   "metadata": {},
   "outputs": [
    {
     "data": {
      "text/html": [
       "<div>\n",
       "<style scoped>\n",
       "    .dataframe tbody tr th:only-of-type {\n",
       "        vertical-align: middle;\n",
       "    }\n",
       "\n",
       "    .dataframe tbody tr th {\n",
       "        vertical-align: top;\n",
       "    }\n",
       "\n",
       "    .dataframe thead th {\n",
       "        text-align: right;\n",
       "    }\n",
       "</style>\n",
       "<table border=\"1\" class=\"dataframe\">\n",
       "  <thead>\n",
       "    <tr style=\"text-align: right;\">\n",
       "      <th></th>\n",
       "      <th>SlNo</th>\n",
       "      <th>Release Date</th>\n",
       "      <th>MovieName</th>\n",
       "      <th>ReleaseTime</th>\n",
       "      <th>Genre</th>\n",
       "      <th>Budget</th>\n",
       "      <th>BoxOfficeCollection</th>\n",
       "      <th>YoutubeViews</th>\n",
       "      <th>YoutubeLikes</th>\n",
       "      <th>YoutubeDislikes</th>\n",
       "    </tr>\n",
       "  </thead>\n",
       "  <tbody>\n",
       "    <tr>\n",
       "      <th>0</th>\n",
       "      <td>1</td>\n",
       "      <td>18-Apr-14</td>\n",
       "      <td>2 States</td>\n",
       "      <td>LW</td>\n",
       "      <td>Romance</td>\n",
       "      <td>36</td>\n",
       "      <td>104.00</td>\n",
       "      <td>8576361</td>\n",
       "      <td>26622</td>\n",
       "      <td>2527</td>\n",
       "    </tr>\n",
       "    <tr>\n",
       "      <th>1</th>\n",
       "      <td>2</td>\n",
       "      <td>4-Jan-13</td>\n",
       "      <td>Table No. 21</td>\n",
       "      <td>N</td>\n",
       "      <td>Thriller</td>\n",
       "      <td>10</td>\n",
       "      <td>12.00</td>\n",
       "      <td>1087320</td>\n",
       "      <td>1129</td>\n",
       "      <td>137</td>\n",
       "    </tr>\n",
       "    <tr>\n",
       "      <th>2</th>\n",
       "      <td>3</td>\n",
       "      <td>18-Jul-14</td>\n",
       "      <td>Amit Sahni Ki List</td>\n",
       "      <td>N</td>\n",
       "      <td>Comedy</td>\n",
       "      <td>10</td>\n",
       "      <td>4.00</td>\n",
       "      <td>572336</td>\n",
       "      <td>586</td>\n",
       "      <td>54</td>\n",
       "    </tr>\n",
       "    <tr>\n",
       "      <th>3</th>\n",
       "      <td>4</td>\n",
       "      <td>4-Jan-13</td>\n",
       "      <td>Rajdhani Express</td>\n",
       "      <td>N</td>\n",
       "      <td>Drama</td>\n",
       "      <td>7</td>\n",
       "      <td>0.35</td>\n",
       "      <td>42626</td>\n",
       "      <td>86</td>\n",
       "      <td>19</td>\n",
       "    </tr>\n",
       "    <tr>\n",
       "      <th>4</th>\n",
       "      <td>5</td>\n",
       "      <td>4-Jul-14</td>\n",
       "      <td>Bobby Jasoos</td>\n",
       "      <td>N</td>\n",
       "      <td>Comedy</td>\n",
       "      <td>18</td>\n",
       "      <td>10.80</td>\n",
       "      <td>3113427</td>\n",
       "      <td>4512</td>\n",
       "      <td>1224</td>\n",
       "    </tr>\n",
       "    <tr>\n",
       "      <th>...</th>\n",
       "      <td>...</td>\n",
       "      <td>...</td>\n",
       "      <td>...</td>\n",
       "      <td>...</td>\n",
       "      <td>...</td>\n",
       "      <td>...</td>\n",
       "      <td>...</td>\n",
       "      <td>...</td>\n",
       "      <td>...</td>\n",
       "      <td>...</td>\n",
       "    </tr>\n",
       "    <tr>\n",
       "      <th>144</th>\n",
       "      <td>145</td>\n",
       "      <td>27-Feb-15</td>\n",
       "      <td>Dum Laga Ke Haisha</td>\n",
       "      <td>N</td>\n",
       "      <td>Comedy</td>\n",
       "      <td>15</td>\n",
       "      <td>30.00</td>\n",
       "      <td>3250917</td>\n",
       "      <td>8185</td>\n",
       "      <td>615</td>\n",
       "    </tr>\n",
       "    <tr>\n",
       "      <th>145</th>\n",
       "      <td>146</td>\n",
       "      <td>13-Mar-15</td>\n",
       "      <td>NH10</td>\n",
       "      <td>N</td>\n",
       "      <td>Thriller</td>\n",
       "      <td>13</td>\n",
       "      <td>32.10</td>\n",
       "      <td>5592977</td>\n",
       "      <td>15464</td>\n",
       "      <td>1513</td>\n",
       "    </tr>\n",
       "    <tr>\n",
       "      <th>146</th>\n",
       "      <td>147</td>\n",
       "      <td>20-Mar-15</td>\n",
       "      <td>Dilliwali Zaalim Girlfriend</td>\n",
       "      <td>N</td>\n",
       "      <td>Comedy</td>\n",
       "      <td>32</td>\n",
       "      <td>12.00</td>\n",
       "      <td>2316047</td>\n",
       "      <td>4289</td>\n",
       "      <td>807</td>\n",
       "    </tr>\n",
       "    <tr>\n",
       "      <th>147</th>\n",
       "      <td>148</td>\n",
       "      <td>20-Mar-15</td>\n",
       "      <td>Hunterrr</td>\n",
       "      <td>N</td>\n",
       "      <td>Comedy</td>\n",
       "      <td>5</td>\n",
       "      <td>11.89</td>\n",
       "      <td>4674795</td>\n",
       "      <td>3706</td>\n",
       "      <td>762</td>\n",
       "    </tr>\n",
       "    <tr>\n",
       "      <th>148</th>\n",
       "      <td>149</td>\n",
       "      <td>23-May-14</td>\n",
       "      <td>Kochadaiiyaan</td>\n",
       "      <td>HS</td>\n",
       "      <td>Action</td>\n",
       "      <td>150</td>\n",
       "      <td>120.00</td>\n",
       "      <td>4740727</td>\n",
       "      <td>13466</td>\n",
       "      <td>2649</td>\n",
       "    </tr>\n",
       "  </tbody>\n",
       "</table>\n",
       "<p>149 rows × 10 columns</p>\n",
       "</div>"
      ],
      "text/plain": [
       "     SlNo Release Date                    MovieName ReleaseTime      Genre  \\\n",
       "0       1    18-Apr-14                     2 States          LW    Romance   \n",
       "1       2     4-Jan-13                 Table No. 21           N  Thriller    \n",
       "2       3    18-Jul-14           Amit Sahni Ki List           N     Comedy   \n",
       "3       4     4-Jan-13             Rajdhani Express           N     Drama    \n",
       "4       5     4-Jul-14                 Bobby Jasoos           N     Comedy   \n",
       "..    ...          ...                          ...         ...        ...   \n",
       "144   145    27-Feb-15           Dum Laga Ke Haisha           N     Comedy   \n",
       "145   146    13-Mar-15                         NH10           N   Thriller   \n",
       "146   147    20-Mar-15  Dilliwali Zaalim Girlfriend           N     Comedy   \n",
       "147   148    20-Mar-15                     Hunterrr           N     Comedy   \n",
       "148   149    23-May-14                Kochadaiiyaan          HS     Action   \n",
       "\n",
       "     Budget  BoxOfficeCollection  YoutubeViews  YoutubeLikes  YoutubeDislikes  \n",
       "0        36               104.00       8576361         26622             2527  \n",
       "1        10                12.00       1087320          1129              137  \n",
       "2        10                 4.00        572336           586               54  \n",
       "3         7                 0.35         42626            86               19  \n",
       "4        18                10.80       3113427          4512             1224  \n",
       "..      ...                  ...           ...           ...              ...  \n",
       "144      15                30.00       3250917          8185              615  \n",
       "145      13                32.10       5592977         15464             1513  \n",
       "146      32                12.00       2316047          4289              807  \n",
       "147       5                11.89       4674795          3706              762  \n",
       "148     150               120.00       4740727         13466             2649  \n",
       "\n",
       "[149 rows x 10 columns]"
      ]
     },
     "execution_count": 2,
     "metadata": {},
     "output_type": "execute_result"
    }
   ],
   "source": [
    "#importing pandas library \n",
    "import pandas as p\n",
    "\n",
    "#reading the bollywood csv file as a data frame\n",
    "x = p.read_csv(\"bollywood.csv\")\n",
    "\n",
    "#displaying the data frame\n",
    "x "
   ]
  },
  {
   "cell_type": "markdown",
   "id": "80ebecfc",
   "metadata": {},
   "source": [
    "## Q.1) How many records are present in the dataset?"
   ]
  },
  {
   "cell_type": "code",
   "execution_count": 3,
   "id": "90b9d84e",
   "metadata": {},
   "outputs": [
    {
     "data": {
      "text/plain": [
       "149"
      ]
     },
     "execution_count": 3,
     "metadata": {},
     "output_type": "execute_result"
    }
   ],
   "source": [
    "#the shape attribute is for checking the actual number of rows and columns inside a dataset or a data frame.\n",
    "#shape function with parameter as 0 returns the no. of rows where as with 1, returns the no. of columns\n",
    "x.shape[0]"
   ]
  },
  {
   "cell_type": "markdown",
   "id": "e9f27c11",
   "metadata": {},
   "source": [
    "## Q.2) How many movies got released in each genre? Sort number of releases in each genre in descending order."
   ]
  },
  {
   "cell_type": "code",
   "execution_count": 4,
   "id": "10936faa",
   "metadata": {},
   "outputs": [
    {
     "name": "stdout",
     "output_type": "stream",
     "text": [
      "Movies got released in each genre : \n",
      "{'Romance': 25, 'Thriller ': 3, 'Comedy': 36, ' Drama ': 35, 'Action ': 3, 'Action': 21, 'Thriller': 26}\n"
     ]
    }
   ],
   "source": [
    "#method 1 - converting Genre column to a list and accessing elements and store count in a hash map\n",
    "mov = x[\"Genre\"].values.tolist() #Converting to a list\n",
    "dict={} #Initialising an empty dictionary\n",
    "for i in mov: #Iterating in the Genre list\n",
    "    if i in dict:\n",
    "        dict[i]=dict[i]+1 #Incrementing the count of the key\n",
    "    else:\n",
    "        dict[i]=1 #Creating a new key if does not exists\n",
    "print(\"Movies got released in each genre : \\n\",dict, sep=\"\")\n",
    "\n",
    "#the issue with this is that Thriller and Action comes twice as they have trailing space so are considered different\n",
    "#to deal with this, we can use strip function\n",
    "\n",
    "#in the later part of the question, we have to sort as well, so it's better not to use dictionary"
   ]
  },
  {
   "cell_type": "code",
   "execution_count": 44,
   "id": "dcb1977b",
   "metadata": {},
   "outputs": [
    {
     "data": {
      "text/plain": [
       "Action      24\n",
       "Romance     25\n",
       "Thriller    29\n",
       "Drama       35\n",
       "Comedy      36\n",
       "Name: Genre, dtype: int64"
      ]
     },
     "execution_count": 44,
     "metadata": {},
     "output_type": "execute_result"
    }
   ],
   "source": [
    "#method 2 - firstly use the str.strip() method to remove the leading and trailing spaces from all the entries in Genre column\n",
    "f = x[\"Genre\"].str.strip() #a is a data frame with just the values of Genre column with removed leading and trailing spaces\n",
    "\n",
    "#The value_counts() function returns the series containing counts of unique values. \n",
    "#The resulting object will be in descending order so that the first element is the most frequently occurring element.\n",
    "\n",
    "f.value_counts(ascending=True) #value_counts to count and giving the value of ascending as True to sort in ASCENDING order\n",
    "#if i don't give any parameter then by default DESCENDING\n"
   ]
  },
  {
   "cell_type": "markdown",
   "id": "411b5846",
   "metadata": {},
   "source": [
    "## Q.3) Which genre had highest number of releases?"
   ]
  },
  {
   "cell_type": "code",
   "execution_count": 45,
   "id": "768fb525",
   "metadata": {},
   "outputs": [
    {
     "name": "stdout",
     "output_type": "stream",
     "text": [
      "Genre which had the highest number of releases are : \n"
     ]
    },
    {
     "data": {
      "text/plain": [
       "Comedy    36\n",
       "Name: Genre, dtype: int64"
      ]
     },
     "execution_count": 45,
     "metadata": {},
     "output_type": "execute_result"
    }
   ],
   "source": [
    "print(\"Genre which had the highest number of releases are : \")\n",
    "\n",
    "#nlargest() method is used to get n largest values from a data frame or a series.\n",
    "f.value_counts(ascending=True).nlargest(n=1)\n"
   ]
  },
  {
   "cell_type": "markdown",
   "id": "84962c59",
   "metadata": {},
   "source": [
    "## Q.4) How many movies in each genre got released in different release times like long weekend, festive season, etc. \n"
   ]
  },
  {
   "cell_type": "code",
   "execution_count": 46,
   "id": "2548ea8a",
   "metadata": {},
   "outputs": [
    {
     "data": {
      "text/html": [
       "<div>\n",
       "<style scoped>\n",
       "    .dataframe tbody tr th:only-of-type {\n",
       "        vertical-align: middle;\n",
       "    }\n",
       "\n",
       "    .dataframe tbody tr th {\n",
       "        vertical-align: top;\n",
       "    }\n",
       "\n",
       "    .dataframe thead th {\n",
       "        text-align: right;\n",
       "    }\n",
       "</style>\n",
       "<table border=\"1\" class=\"dataframe\">\n",
       "  <thead>\n",
       "    <tr style=\"text-align: right;\">\n",
       "      <th>ReleaseTime</th>\n",
       "      <th>FS</th>\n",
       "      <th>HS</th>\n",
       "      <th>LW</th>\n",
       "      <th>N</th>\n",
       "    </tr>\n",
       "    <tr>\n",
       "      <th>Genre</th>\n",
       "      <th></th>\n",
       "      <th></th>\n",
       "      <th></th>\n",
       "      <th></th>\n",
       "    </tr>\n",
       "  </thead>\n",
       "  <tbody>\n",
       "    <tr>\n",
       "      <th>Action</th>\n",
       "      <td>3</td>\n",
       "      <td>3</td>\n",
       "      <td>3</td>\n",
       "      <td>15</td>\n",
       "    </tr>\n",
       "    <tr>\n",
       "      <th>Comedy</th>\n",
       "      <td>3</td>\n",
       "      <td>5</td>\n",
       "      <td>5</td>\n",
       "      <td>23</td>\n",
       "    </tr>\n",
       "    <tr>\n",
       "      <th>Drama</th>\n",
       "      <td>4</td>\n",
       "      <td>6</td>\n",
       "      <td>1</td>\n",
       "      <td>24</td>\n",
       "    </tr>\n",
       "    <tr>\n",
       "      <th>Romance</th>\n",
       "      <td>3</td>\n",
       "      <td>3</td>\n",
       "      <td>4</td>\n",
       "      <td>15</td>\n",
       "    </tr>\n",
       "    <tr>\n",
       "      <th>Thriller</th>\n",
       "      <td>4</td>\n",
       "      <td>1</td>\n",
       "      <td>2</td>\n",
       "      <td>22</td>\n",
       "    </tr>\n",
       "  </tbody>\n",
       "</table>\n",
       "</div>"
      ],
      "text/plain": [
       "ReleaseTime  FS  HS  LW   N\n",
       "Genre                      \n",
       "Action        3   3   3  15\n",
       "Comedy        3   5   5  23\n",
       "Drama         4   6   1  24\n",
       "Romance       3   3   4  15\n",
       "Thriller      4   1   2  22"
      ]
     },
     "execution_count": 46,
     "metadata": {},
     "output_type": "execute_result"
    }
   ],
   "source": [
    "#creating a cross tab between the genre and release time\n",
    "p.crosstab(f, x.ReleaseTime) #a is the data frame which has Genres with stripped fields."
   ]
  },
  {
   "cell_type": "markdown",
   "id": "f80bc128",
   "metadata": {},
   "source": [
    "## Q.5) Which month of the year, maximum number movie releases are seen? "
   ]
  },
  {
   "cell_type": "code",
   "execution_count": 25,
   "id": "2a72920f",
   "metadata": {},
   "outputs": [
    {
     "data": {
      "text/plain": [
       "1"
      ]
     },
     "execution_count": 25,
     "metadata": {},
     "output_type": "execute_result"
    }
   ],
   "source": [
    "x['Month']=p.DatetimeIndex(x['Release Date']).month \n",
    "#convert object data type to date time type\n",
    "\n",
    "x['Month'].value_counts()\n",
    "x['Month'].value_counts().idxmax()"
   ]
  },
  {
   "cell_type": "code",
   "execution_count": 12,
   "id": "f6333b6a",
   "metadata": {},
   "outputs": [],
   "source": [
    "#hence 1 i.e. January has the maximum number of movie releases."
   ]
  },
  {
   "cell_type": "code",
   "execution_count": 29,
   "id": "177039c1",
   "metadata": {},
   "outputs": [
    {
     "name": "stdout",
     "output_type": "stream",
     "text": [
      "January has the maximum number movie releases\n"
     ]
    }
   ],
   "source": [
    "a=x['Month'].value_counts().idxmax()\n",
    "#storing the month value in an integer data type --> a\n",
    "\n",
    "months = [0, \"January\", \"February\", \"March\", \"April\", \"May\", \"June\", \"July\", \"August\", \"September\", \"October\", \"November\", \"December\"]\n",
    "#creating a list --> months which will have the month name with the month number associated to it\n",
    "\n",
    "print(months[a], \"has the maximum  of movie releases\")\n",
    "#printing the month name"
   ]
  },
  {
   "cell_type": "markdown",
   "id": "4273f508",
   "metadata": {},
   "source": [
    "## Q.6) Which month of the year typically sees most releases of high budgeted movies, that is, movies with budget of 25 crore or more?"
   ]
  },
  {
   "cell_type": "code",
   "execution_count": 13,
   "id": "5e49f674",
   "metadata": {},
   "outputs": [
    {
     "data": {
      "text/plain": [
       "2"
      ]
     },
     "execution_count": 13,
     "metadata": {},
     "output_type": "execute_result"
    }
   ],
   "source": [
    "x[x.Budget>=25].Month.value_counts().idxmax()"
   ]
  },
  {
   "cell_type": "code",
   "execution_count": 30,
   "id": "7f6dd323",
   "metadata": {},
   "outputs": [],
   "source": [
    "#answer is 2, i.e., February sees the most releases of high budgeted movies."
   ]
  },
  {
   "cell_type": "code",
   "execution_count": 31,
   "id": "c68c9746",
   "metadata": {},
   "outputs": [
    {
     "name": "stdout",
     "output_type": "stream",
     "text": [
      "February typically sees most releases of high budgeted movies\n"
     ]
    }
   ],
   "source": [
    "a = x[x.Budget>=25].Month.value_counts().idxmax()\n",
    "\n",
    "#printing the month name with the help of the months list\n",
    "print(months[a], \"typically sees most releases of high budgeted movies\")"
   ]
  },
  {
   "cell_type": "markdown",
   "id": "1064efca",
   "metadata": {},
   "source": [
    "## Q.7) Which are the top 10 movies with maximum return on investment (ROI)? "
   ]
  },
  {
   "cell_type": "code",
   "execution_count": 32,
   "id": "9b91df1b",
   "metadata": {},
   "outputs": [
    {
     "data": {
      "text/html": [
       "<div>\n",
       "<style scoped>\n",
       "    .dataframe tbody tr th:only-of-type {\n",
       "        vertical-align: middle;\n",
       "    }\n",
       "\n",
       "    .dataframe tbody tr th {\n",
       "        vertical-align: top;\n",
       "    }\n",
       "\n",
       "    .dataframe thead th {\n",
       "        text-align: right;\n",
       "    }\n",
       "</style>\n",
       "<table border=\"1\" class=\"dataframe\">\n",
       "  <thead>\n",
       "    <tr style=\"text-align: right;\">\n",
       "      <th></th>\n",
       "      <th>SlNo</th>\n",
       "      <th>Release Date</th>\n",
       "      <th>MovieName</th>\n",
       "      <th>ReleaseTime</th>\n",
       "      <th>Genre</th>\n",
       "      <th>Budget</th>\n",
       "      <th>BoxOfficeCollection</th>\n",
       "      <th>YoutubeViews</th>\n",
       "      <th>YoutubeLikes</th>\n",
       "      <th>YoutubeDislikes</th>\n",
       "      <th>Month</th>\n",
       "      <th>ROI</th>\n",
       "    </tr>\n",
       "  </thead>\n",
       "  <tbody>\n",
       "    <tr>\n",
       "      <th>64</th>\n",
       "      <td>65</td>\n",
       "      <td>26-Apr-13</td>\n",
       "      <td>Aashiqui 2</td>\n",
       "      <td>N</td>\n",
       "      <td>Romance</td>\n",
       "      <td>12</td>\n",
       "      <td>110.0</td>\n",
       "      <td>2926673</td>\n",
       "      <td>4944</td>\n",
       "      <td>628</td>\n",
       "      <td>4</td>\n",
       "      <td>8.166667</td>\n",
       "    </tr>\n",
       "    <tr>\n",
       "      <th>89</th>\n",
       "      <td>90</td>\n",
       "      <td>19-Dec-14</td>\n",
       "      <td>PK</td>\n",
       "      <td>HS</td>\n",
       "      <td>Drama</td>\n",
       "      <td>85</td>\n",
       "      <td>735.0</td>\n",
       "      <td>13270623</td>\n",
       "      <td>43767</td>\n",
       "      <td>5693</td>\n",
       "      <td>12</td>\n",
       "      <td>7.647059</td>\n",
       "    </tr>\n",
       "    <tr>\n",
       "      <th>132</th>\n",
       "      <td>133</td>\n",
       "      <td>13-Sep-13</td>\n",
       "      <td>Grand Masti</td>\n",
       "      <td>LW</td>\n",
       "      <td>Comedy</td>\n",
       "      <td>35</td>\n",
       "      <td>298.0</td>\n",
       "      <td>1795640</td>\n",
       "      <td>3015</td>\n",
       "      <td>721</td>\n",
       "      <td>9</td>\n",
       "      <td>7.514286</td>\n",
       "    </tr>\n",
       "    <tr>\n",
       "      <th>135</th>\n",
       "      <td>136</td>\n",
       "      <td>20-Sep-13</td>\n",
       "      <td>The Lunchbox</td>\n",
       "      <td>N</td>\n",
       "      <td>Drama</td>\n",
       "      <td>10</td>\n",
       "      <td>85.0</td>\n",
       "      <td>1064854</td>\n",
       "      <td>4054</td>\n",
       "      <td>285</td>\n",
       "      <td>9</td>\n",
       "      <td>7.500000</td>\n",
       "    </tr>\n",
       "    <tr>\n",
       "      <th>87</th>\n",
       "      <td>88</td>\n",
       "      <td>14-Jun-13</td>\n",
       "      <td>Fukrey</td>\n",
       "      <td>N</td>\n",
       "      <td>Comedy</td>\n",
       "      <td>5</td>\n",
       "      <td>36.2</td>\n",
       "      <td>227912</td>\n",
       "      <td>222</td>\n",
       "      <td>39</td>\n",
       "      <td>6</td>\n",
       "      <td>6.240000</td>\n",
       "    </tr>\n",
       "    <tr>\n",
       "      <th>58</th>\n",
       "      <td>59</td>\n",
       "      <td>5-Sep-14</td>\n",
       "      <td>Mary Kom</td>\n",
       "      <td>N</td>\n",
       "      <td>Drama</td>\n",
       "      <td>15</td>\n",
       "      <td>104.0</td>\n",
       "      <td>6086811</td>\n",
       "      <td>26560</td>\n",
       "      <td>1647</td>\n",
       "      <td>9</td>\n",
       "      <td>5.933333</td>\n",
       "    </tr>\n",
       "    <tr>\n",
       "      <th>128</th>\n",
       "      <td>129</td>\n",
       "      <td>18-Oct-13</td>\n",
       "      <td>Shahid</td>\n",
       "      <td>FS</td>\n",
       "      <td>Drama</td>\n",
       "      <td>6</td>\n",
       "      <td>40.0</td>\n",
       "      <td>1148516</td>\n",
       "      <td>3155</td>\n",
       "      <td>396</td>\n",
       "      <td>10</td>\n",
       "      <td>5.666667</td>\n",
       "    </tr>\n",
       "    <tr>\n",
       "      <th>37</th>\n",
       "      <td>38</td>\n",
       "      <td>11-Jul-14</td>\n",
       "      <td>Humpty Sharma Ki Dulhania</td>\n",
       "      <td>N</td>\n",
       "      <td>Romance</td>\n",
       "      <td>20</td>\n",
       "      <td>130.0</td>\n",
       "      <td>6604595</td>\n",
       "      <td>14535</td>\n",
       "      <td>2208</td>\n",
       "      <td>7</td>\n",
       "      <td>5.500000</td>\n",
       "    </tr>\n",
       "    <tr>\n",
       "      <th>101</th>\n",
       "      <td>102</td>\n",
       "      <td>12-Jul-13</td>\n",
       "      <td>Bhaag Milkha Bhaag</td>\n",
       "      <td>N</td>\n",
       "      <td>Drama</td>\n",
       "      <td>30</td>\n",
       "      <td>164.0</td>\n",
       "      <td>2635390</td>\n",
       "      <td>4622</td>\n",
       "      <td>456</td>\n",
       "      <td>7</td>\n",
       "      <td>4.466667</td>\n",
       "    </tr>\n",
       "    <tr>\n",
       "      <th>115</th>\n",
       "      <td>116</td>\n",
       "      <td>9-Aug-13</td>\n",
       "      <td>Chennai Express</td>\n",
       "      <td>FS</td>\n",
       "      <td>Comedy</td>\n",
       "      <td>75</td>\n",
       "      <td>395.0</td>\n",
       "      <td>1882346</td>\n",
       "      <td>7954</td>\n",
       "      <td>1593</td>\n",
       "      <td>8</td>\n",
       "      <td>4.266667</td>\n",
       "    </tr>\n",
       "  </tbody>\n",
       "</table>\n",
       "</div>"
      ],
      "text/plain": [
       "     SlNo Release Date                  MovieName ReleaseTime    Genre  \\\n",
       "64     65    26-Apr-13                 Aashiqui 2           N  Romance   \n",
       "89     90    19-Dec-14                         PK          HS   Drama    \n",
       "132   133    13-Sep-13                Grand Masti          LW   Comedy   \n",
       "135   136    20-Sep-13               The Lunchbox           N   Drama    \n",
       "87     88    14-Jun-13                     Fukrey           N   Comedy   \n",
       "58     59     5-Sep-14                   Mary Kom           N   Drama    \n",
       "128   129    18-Oct-13                     Shahid          FS   Drama    \n",
       "37     38    11-Jul-14  Humpty Sharma Ki Dulhania           N  Romance   \n",
       "101   102    12-Jul-13         Bhaag Milkha Bhaag           N   Drama    \n",
       "115   116     9-Aug-13            Chennai Express          FS   Comedy   \n",
       "\n",
       "     Budget  BoxOfficeCollection  YoutubeViews  YoutubeLikes  YoutubeDislikes  \\\n",
       "64       12                110.0       2926673          4944              628   \n",
       "89       85                735.0      13270623         43767             5693   \n",
       "132      35                298.0       1795640          3015              721   \n",
       "135      10                 85.0       1064854          4054              285   \n",
       "87        5                 36.2        227912           222               39   \n",
       "58       15                104.0       6086811         26560             1647   \n",
       "128       6                 40.0       1148516          3155              396   \n",
       "37       20                130.0       6604595         14535             2208   \n",
       "101      30                164.0       2635390          4622              456   \n",
       "115      75                395.0       1882346          7954             1593   \n",
       "\n",
       "     Month       ROI  \n",
       "64       4  8.166667  \n",
       "89      12  7.647059  \n",
       "132      9  7.514286  \n",
       "135      9  7.500000  \n",
       "87       6  6.240000  \n",
       "58       9  5.933333  \n",
       "128     10  5.666667  \n",
       "37       7  5.500000  \n",
       "101      7  4.466667  \n",
       "115      8  4.266667  "
      ]
     },
     "execution_count": 32,
     "metadata": {},
     "output_type": "execute_result"
    }
   ],
   "source": [
    "budget = x[\"Budget\"].values.tolist() #Budget column to a list\n",
    "box = x[\"BoxOfficeCollection\"].values.tolist() #BoxOfficeCollection to a list\n",
    "roi=[] #Creating a new list to store ROI values\n",
    "for i in range(0, len(box)): \n",
    "    roi.append((box[i] - budget[i])/budget[i]) #Calculating ROI and adding it to the list\n",
    "x = x.assign(ROI=roi) #Adding a new column to the data frame\n",
    "\n",
    "#Sorting the data frame by ROI column in descending order\n",
    "#Using head() method, displaying the top 10 movies with highest ROI\n",
    "x.sort_values(by='ROI', ascending=False).head(n=10)"
   ]
  },
  {
   "cell_type": "markdown",
   "id": "7109ef48",
   "metadata": {},
   "source": [
    "## Q.8) Do the movies have higher ROI if they get released on festive seasons or long weekend? Calculate the average ROI for different release times."
   ]
  },
  {
   "cell_type": "code",
   "execution_count": 35,
   "id": "e9da7267",
   "metadata": {},
   "outputs": [
    {
     "name": "stdout",
     "output_type": "stream",
     "text": [
      "LW  :  1.1272053098737973\n",
      "N  :  0.6577216305350877\n",
      "HS  :  0.8508667840873724\n",
      "FS  :  0.9738532013595953\n"
     ]
    }
   ],
   "source": [
    "for i in x.ReleaseTime.unique():\n",
    "    print(i,\" : \",x[x.ReleaseTime==i].ROI.mean())"
   ]
  },
  {
   "cell_type": "code",
   "execution_count": null,
   "id": "070778bb",
   "metadata": {},
   "outputs": [],
   "source": [
    "#the average value for LW is the maximum, so the movies released on long weekend have more ROI than the on festice seasons."
   ]
  },
  {
   "cell_type": "markdown",
   "id": "502e83e2",
   "metadata": {},
   "source": [
    "## Q.9) Is there a correlation between box office collection and YouTube likes? Is the correlation positive or negative?"
   ]
  },
  {
   "cell_type": "code",
   "execution_count": 38,
   "id": "ffaa791e",
   "metadata": {},
   "outputs": [
    {
     "data": {
      "text/plain": [
       "<AxesSubplot:xlabel='YoutubeLikes', ylabel='BoxOfficeCollection'>"
      ]
     },
     "execution_count": 38,
     "metadata": {},
     "output_type": "execute_result"
    },
    {
     "data": {
      "image/png": "[encoded data removed]",
      "text/plain": [
       "<Figure size 432x288 with 1 Axes>"
      ]
     },
     "metadata": {
      "needs_background": "light"
     },
     "output_type": "display_data"
    }
   ],
   "source": [
    "import seaborn as sns\n",
    "\n",
    "#Best Fit Line\n",
    "sns.regplot(x='YoutubeLikes',y='BoxOfficeCollection',data=x)"
   ]
  },
  {
   "cell_type": "code",
   "execution_count": null,
   "id": "e7161434",
   "metadata": {},
   "outputs": [],
   "source": [
    "#since there is a positive slope, there is a POSITIVE correlation"
   ]
  },
  {
   "cell_type": "code",
   "execution_count": 39,
   "id": "7305748b",
   "metadata": {},
   "outputs": [
    {
     "data": {
      "text/plain": [
       "0.6825165877731297"
      ]
     },
     "execution_count": 39,
     "metadata": {},
     "output_type": "execute_result"
    }
   ],
   "source": [
    "x.YoutubeLikes.corr(x.BoxOfficeCollection)\n",
    "#finding correlation value"
   ]
  },
  {
   "cell_type": "code",
   "execution_count": 40,
   "id": "e86daef9",
   "metadata": {},
   "outputs": [],
   "source": [
    "#positive correlation value"
   ]
  },
  {
   "cell_type": "markdown",
   "id": "b17b7d94",
   "metadata": {},
   "source": [
    "## Q.10) Which genre of movies typically sees more YouTube likes? Draw boxplots for each genre of movies to compare."
   ]
  },
  {
   "cell_type": "code",
   "execution_count": 49,
   "id": "5b5cbecd",
   "metadata": {},
   "outputs": [
    {
     "data": {
      "text/plain": [
       "<AxesSubplot:xlabel='Genre', ylabel='YoutubeLikes'>"
      ]
     },
     "execution_count": 49,
     "metadata": {},
     "output_type": "execute_result"
    },
    {
     "data": {
      "image/png": "[encoded data removed]",
      "text/plain": [
       "<Figure size 432x288 with 1 Axes>"
      ]
     },
     "metadata": {
      "needs_background": "light"
     },
     "output_type": "display_data"
    }
   ],
   "source": [
    "x['Genre']=x.Genre.str.strip() #stripping the leading and trailing spaces\n",
    "sns.boxplot(data=x,x=\"Genre\",y=\"YoutubeLikes\")"
   ]
  },
  {
   "cell_type": "code",
   "execution_count": null,
   "id": "77040534",
   "metadata": {},
   "outputs": [],
   "source": [
    "#So, the genre Action typically sees more Youtube Likes "
   ]
  },
  {
   "cell_type": "markdown",
   "id": "6f672413",
   "metadata": {},
   "source": [
    "## Q.11) Which of the variables among Budget, BoxOfficeCollection, YoutubeView, YoutubeLikes, YoutubeDislikes are highly correlated?"
   ]
  },
  {
   "cell_type": "code",
   "execution_count": 50,
   "id": "7462fcbf",
   "metadata": {},
   "outputs": [
    {
     "data": {
      "text/plain": [
       "<AxesSubplot:>"
      ]
     },
     "execution_count": 50,
     "metadata": {},
     "output_type": "execute_result"
    },
    {
     "data": {
      "image/png": "[encoded data removed]",
      "text/plain": [
       "<Figure size 432x288 with 2 Axes>"
      ]
     },
     "metadata": {
      "needs_background": "light"
     },
     "output_type": "display_data"
    }
   ],
   "source": [
    "#heatmap\n",
    "sns.heatmap(x[['Budget','BoxOfficeCollection','YoutubeViews','YoutubeLikes','YoutubeDislikes']].corr(),annot=True)"
   ]
  },
  {
   "cell_type": "code",
   "execution_count": 51,
   "id": "701ad6ab",
   "metadata": {},
   "outputs": [],
   "source": [
    "#Youtube Likes and YouTube Views are highly correlated"
   ]
  },
  {
   "cell_type": "markdown",
   "id": "c14fa253",
   "metadata": {},
   "source": [
    "## Q.12) During 2013−2015 period, highlight the genre of movies and their box office collection? Visualize with best fit graph."
   ]
  },
  {
   "cell_type": "code",
   "execution_count": 73,
   "id": "f6d438c5",
   "metadata": {
    "scrolled": true
   },
   "outputs": [
    {
     "data": {
      "text/plain": [
       "<AxesSubplot:xlabel='Genre', ylabel='BoxOfficeCollection'>"
      ]
     },
     "execution_count": 73,
     "metadata": {},
     "output_type": "execute_result"
    },
    {
     "data": {
      "image/png": "[encoded data removed]",
      "text/plain": [
       "<Figure size 432x288 with 1 Axes>"
      ]
     },
     "metadata": {
      "needs_background": "light"
     },
     "output_type": "display_data"
    }
   ],
   "source": [
    "#bar graph of genre and its average box office collection\n",
    "sns.barplot(data=x,x='Genre',y='BoxOfficeCollection')"
   ]
  },
  {
   "cell_type": "markdown",
   "id": "eb21d6df",
   "metadata": {},
   "source": [
    "## Q.13) Visualize the Budget and Box office collection based on Genre."
   ]
  },
  {
   "cell_type": "code",
   "execution_count": 70,
   "id": "3ac6b7c1",
   "metadata": {
    "scrolled": true
   },
   "outputs": [
    {
     "data": {
      "text/plain": [
       "<AxesSubplot:xlabel='Genre', ylabel='BoxOfficeCollection'>"
      ]
     },
     "execution_count": 70,
     "metadata": {},
     "output_type": "execute_result"
    },
    {
     "data": {
      "image/png": "[encoded data removed]",
      "text/plain": [
       "<Figure size 432x288 with 1 Axes>"
      ]
     },
     "metadata": {
      "needs_background": "light"
     },
     "output_type": "display_data"
    }
   ],
   "source": [
    "#bar graph of average box office collection per genre\n",
    "sns.barplot(data=x,x='Genre',y='BoxOfficeCollection')"
   ]
  },
  {
   "cell_type": "code",
   "execution_count": 74,
   "id": "134a70ba",
   "metadata": {},
   "outputs": [
    {
     "data": {
      "text/plain": [
       "<AxesSubplot:xlabel='Genre', ylabel='Budget'>"
      ]
     },
     "execution_count": 74,
     "metadata": {},
     "output_type": "execute_result"
    },
    {
     "data": {
      "image/png": "[encoded data removed]",
      "text/plain": [
       "<Figure size 432x288 with 1 Axes>"
      ]
     },
     "metadata": {
      "needs_background": "light"
     },
     "output_type": "display_data"
    }
   ],
   "source": [
    "#bar graph of average budget per genre\n",
    "sns.barplot(data=x,x='Genre',y='Budget')"
   ]
  },
  {
   "cell_type": "markdown",
   "id": "a0c7931c",
   "metadata": {},
   "source": [
    "## Q.14) Find the distribution of movie budget for every Genre."
   ]
  },
  {
   "cell_type": "code",
   "execution_count": 60,
   "id": "31042934",
   "metadata": {},
   "outputs": [
    {
     "data": {
      "text/plain": [
       "<matplotlib.collections.PathCollection at 0x190bdbe8580>"
      ]
     },
     "execution_count": 60,
     "metadata": {},
     "output_type": "execute_result"
    },
    {
     "data": {
      "image/png": "[encoded data removed]",
      "text/plain": [
       "<Figure size 432x288 with 1 Axes>"
      ]
     },
     "metadata": {
      "needs_background": "light"
     },
     "output_type": "display_data"
    }
   ],
   "source": [
    "#Distribution of budget per genre\n",
    "plt.scatter(x.Genre,x.Budget)"
   ]
  },
  {
   "cell_type": "markdown",
   "id": "cf244e67",
   "metadata": {},
   "source": [
    "## Q.15) During 2013−2015, find the number of movies released in every year. "
   ]
  },
  {
   "cell_type": "code",
   "execution_count": 62,
   "id": "6e459a10",
   "metadata": {},
   "outputs": [
    {
     "data": {
      "text/plain": [
       "0      2014\n",
       "1      2013\n",
       "2      2014\n",
       "3      2013\n",
       "4      2014\n",
       "       ... \n",
       "144    2015\n",
       "145    2015\n",
       "146    2015\n",
       "147    2015\n",
       "148    2014\n",
       "Name: Year, Length: 149, dtype: int64"
      ]
     },
     "execution_count": 62,
     "metadata": {},
     "output_type": "execute_result"
    }
   ],
   "source": [
    "x['Year']=p.DatetimeIndex(x['Release Date']).year\n",
    "x['Year']"
   ]
  },
  {
   "cell_type": "code",
   "execution_count": 66,
   "id": "d32ff1ba",
   "metadata": {},
   "outputs": [
    {
     "data": {
      "text/plain": [
       "<AxesSubplot:xlabel='Year'>"
      ]
     },
     "execution_count": 66,
     "metadata": {},
     "output_type": "execute_result"
    },
    {
     "data": {
      "image/png": "[encoded data removed]",
      "text/plain": [
       "<Figure size 432x288 with 1 Axes>"
      ]
     },
     "metadata": {
      "needs_background": "light"
     },
     "output_type": "display_data"
    }
   ],
   "source": [
    "#number of movies releases per year\n",
    "p.crosstab(x.Year,x.shape[0])\n",
    "\n",
    "#visualization of number of movies per year\n",
    "p.crosstab(x.Year,x.shape[0]).plot.bar()"
   ]
  },
  {
   "cell_type": "code",
   "execution_count": null,
   "id": "4664b1fc",
   "metadata": {},
   "outputs": [],
   "source": []
  }
 ],
 "metadata": {
  "kernelspec": {
   "display_name": "Python 3 (ipykernel)",
   "language": "python",
   "name": "python3"
  },
  "language_info": {
   "codemirror_mode": {
    "name": "ipython",
    "version": 3
   },
   "file_extension": ".py",
   "mimetype": "text/x-python",
   "name": "python",
   "nbconvert_exporter": "python",
   "pygments_lexer": "ipython3",
   "version": "3.9.12"
  }
 },
 "nbformat": 4,
 "nbformat_minor": 5
}
