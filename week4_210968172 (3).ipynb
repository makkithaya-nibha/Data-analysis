{
 "cells": [
  {
   "cell_type": "code",
   "execution_count": 7,
   "id": "28d6d3cd",
   "metadata": {},
   "outputs": [],
   "source": [
    "#importing necessary libraries\n",
    "import pandas as pd\n",
    "import numpy as np\n",
    "import seaborn as sns\n",
    "from matplotlib import pyplot as plt"
   ]
  },
  {
   "cell_type": "code",
   "execution_count": 9,
   "id": "7fbc70c8",
   "metadata": {},
   "outputs": [
    {
     "data": {
      "text/html": [
       "<div>\n",
       "<style scoped>\n",
       "    .dataframe tbody tr th:only-of-type {\n",
       "        vertical-align: middle;\n",
       "    }\n",
       "\n",
       "    .dataframe tbody tr th {\n",
       "        vertical-align: top;\n",
       "    }\n",
       "\n",
       "    .dataframe thead th {\n",
       "        text-align: right;\n",
       "    }\n",
       "</style>\n",
       "<table border=\"1\" class=\"dataframe\">\n",
       "  <thead>\n",
       "    <tr style=\"text-align: right;\">\n",
       "      <th></th>\n",
       "      <th>name</th>\n",
       "      <th>mfr</th>\n",
       "      <th>type</th>\n",
       "      <th>calories</th>\n",
       "      <th>protein</th>\n",
       "      <th>fat</th>\n",
       "      <th>sodium</th>\n",
       "      <th>fiber</th>\n",
       "      <th>carbo</th>\n",
       "      <th>sugars</th>\n",
       "      <th>potass</th>\n",
       "      <th>vitamins</th>\n",
       "      <th>shelf</th>\n",
       "      <th>weight</th>\n",
       "      <th>cups</th>\n",
       "      <th>rating</th>\n",
       "    </tr>\n",
       "  </thead>\n",
       "  <tbody>\n",
       "    <tr>\n",
       "      <th>0</th>\n",
       "      <td>100%_Natural_Bran</td>\n",
       "      <td>Q</td>\n",
       "      <td>C</td>\n",
       "      <td>120</td>\n",
       "      <td>3</td>\n",
       "      <td>5</td>\n",
       "      <td>15</td>\n",
       "      <td>2.0</td>\n",
       "      <td>8.0</td>\n",
       "      <td>8</td>\n",
       "      <td>135</td>\n",
       "      <td>0</td>\n",
       "      <td>3</td>\n",
       "      <td>1.00</td>\n",
       "      <td>1.00</td>\n",
       "      <td>33.983679</td>\n",
       "    </tr>\n",
       "    <tr>\n",
       "      <th>1</th>\n",
       "      <td>All-Bran</td>\n",
       "      <td>K</td>\n",
       "      <td>C</td>\n",
       "      <td>70</td>\n",
       "      <td>4</td>\n",
       "      <td>1</td>\n",
       "      <td>260</td>\n",
       "      <td>9.0</td>\n",
       "      <td>7.0</td>\n",
       "      <td>5</td>\n",
       "      <td>320</td>\n",
       "      <td>25</td>\n",
       "      <td>3</td>\n",
       "      <td>1.00</td>\n",
       "      <td>0.33</td>\n",
       "      <td>59.425505</td>\n",
       "    </tr>\n",
       "    <tr>\n",
       "      <th>2</th>\n",
       "      <td>All-Bran_with_Extra_Fiber</td>\n",
       "      <td>K</td>\n",
       "      <td>C</td>\n",
       "      <td>50</td>\n",
       "      <td>4</td>\n",
       "      <td>0</td>\n",
       "      <td>140</td>\n",
       "      <td>14.0</td>\n",
       "      <td>8.0</td>\n",
       "      <td>0</td>\n",
       "      <td>330</td>\n",
       "      <td>25</td>\n",
       "      <td>3</td>\n",
       "      <td>1.00</td>\n",
       "      <td>0.50</td>\n",
       "      <td>93.704912</td>\n",
       "    </tr>\n",
       "    <tr>\n",
       "      <th>3</th>\n",
       "      <td>Almond_Delight</td>\n",
       "      <td>R</td>\n",
       "      <td>C</td>\n",
       "      <td>110</td>\n",
       "      <td>2</td>\n",
       "      <td>2</td>\n",
       "      <td>200</td>\n",
       "      <td>1.0</td>\n",
       "      <td>14.0</td>\n",
       "      <td>8</td>\n",
       "      <td>-1</td>\n",
       "      <td>25</td>\n",
       "      <td>3</td>\n",
       "      <td>1.00</td>\n",
       "      <td>0.75</td>\n",
       "      <td>34.384843</td>\n",
       "    </tr>\n",
       "    <tr>\n",
       "      <th>4</th>\n",
       "      <td>Apple_Cinnamon_Cheerios</td>\n",
       "      <td>G</td>\n",
       "      <td>C</td>\n",
       "      <td>110</td>\n",
       "      <td>2</td>\n",
       "      <td>2</td>\n",
       "      <td>180</td>\n",
       "      <td>1.5</td>\n",
       "      <td>10.5</td>\n",
       "      <td>10</td>\n",
       "      <td>70</td>\n",
       "      <td>25</td>\n",
       "      <td>1</td>\n",
       "      <td>1.00</td>\n",
       "      <td>0.75</td>\n",
       "      <td>29.509541</td>\n",
       "    </tr>\n",
       "    <tr>\n",
       "      <th>5</th>\n",
       "      <td>Apple_Jacks</td>\n",
       "      <td>K</td>\n",
       "      <td>C</td>\n",
       "      <td>110</td>\n",
       "      <td>2</td>\n",
       "      <td>0</td>\n",
       "      <td>125</td>\n",
       "      <td>1.0</td>\n",
       "      <td>11.0</td>\n",
       "      <td>14</td>\n",
       "      <td>30</td>\n",
       "      <td>25</td>\n",
       "      <td>2</td>\n",
       "      <td>1.00</td>\n",
       "      <td>1.00</td>\n",
       "      <td>33.174094</td>\n",
       "    </tr>\n",
       "    <tr>\n",
       "      <th>6</th>\n",
       "      <td>Basic_4</td>\n",
       "      <td>G</td>\n",
       "      <td>C</td>\n",
       "      <td>130</td>\n",
       "      <td>3</td>\n",
       "      <td>2</td>\n",
       "      <td>210</td>\n",
       "      <td>2.0</td>\n",
       "      <td>18.0</td>\n",
       "      <td>8</td>\n",
       "      <td>100</td>\n",
       "      <td>25</td>\n",
       "      <td>3</td>\n",
       "      <td>1.33</td>\n",
       "      <td>0.75</td>\n",
       "      <td>37.038562</td>\n",
       "    </tr>\n",
       "    <tr>\n",
       "      <th>7</th>\n",
       "      <td>Bran_Chex</td>\n",
       "      <td>R</td>\n",
       "      <td>C</td>\n",
       "      <td>90</td>\n",
       "      <td>2</td>\n",
       "      <td>1</td>\n",
       "      <td>200</td>\n",
       "      <td>4.0</td>\n",
       "      <td>15.0</td>\n",
       "      <td>6</td>\n",
       "      <td>125</td>\n",
       "      <td>25</td>\n",
       "      <td>1</td>\n",
       "      <td>1.00</td>\n",
       "      <td>0.67</td>\n",
       "      <td>49.120253</td>\n",
       "    </tr>\n",
       "    <tr>\n",
       "      <th>8</th>\n",
       "      <td>Bran_Flakes</td>\n",
       "      <td>P</td>\n",
       "      <td>C</td>\n",
       "      <td>90</td>\n",
       "      <td>3</td>\n",
       "      <td>0</td>\n",
       "      <td>210</td>\n",
       "      <td>5.0</td>\n",
       "      <td>13.0</td>\n",
       "      <td>5</td>\n",
       "      <td>190</td>\n",
       "      <td>25</td>\n",
       "      <td>3</td>\n",
       "      <td>1.00</td>\n",
       "      <td>0.67</td>\n",
       "      <td>53.313813</td>\n",
       "    </tr>\n",
       "    <tr>\n",
       "      <th>9</th>\n",
       "      <td>Cap'n'Crunch</td>\n",
       "      <td>Q</td>\n",
       "      <td>C</td>\n",
       "      <td>120</td>\n",
       "      <td>1</td>\n",
       "      <td>2</td>\n",
       "      <td>220</td>\n",
       "      <td>0.0</td>\n",
       "      <td>12.0</td>\n",
       "      <td>12</td>\n",
       "      <td>35</td>\n",
       "      <td>25</td>\n",
       "      <td>2</td>\n",
       "      <td>1.00</td>\n",
       "      <td>0.75</td>\n",
       "      <td>18.042851</td>\n",
       "    </tr>\n",
       "    <tr>\n",
       "      <th>10</th>\n",
       "      <td>Cheerios</td>\n",
       "      <td>G</td>\n",
       "      <td>C</td>\n",
       "      <td>110</td>\n",
       "      <td>6</td>\n",
       "      <td>2</td>\n",
       "      <td>290</td>\n",
       "      <td>2.0</td>\n",
       "      <td>17.0</td>\n",
       "      <td>1</td>\n",
       "      <td>105</td>\n",
       "      <td>25</td>\n",
       "      <td>1</td>\n",
       "      <td>1.00</td>\n",
       "      <td>1.25</td>\n",
       "      <td>50.764999</td>\n",
       "    </tr>\n",
       "    <tr>\n",
       "      <th>11</th>\n",
       "      <td>Cinnamon_Toast_Crunch</td>\n",
       "      <td>G</td>\n",
       "      <td>C</td>\n",
       "      <td>120</td>\n",
       "      <td>1</td>\n",
       "      <td>3</td>\n",
       "      <td>210</td>\n",
       "      <td>0.0</td>\n",
       "      <td>13.0</td>\n",
       "      <td>9</td>\n",
       "      <td>45</td>\n",
       "      <td>25</td>\n",
       "      <td>2</td>\n",
       "      <td>1.00</td>\n",
       "      <td>0.75</td>\n",
       "      <td>19.823573</td>\n",
       "    </tr>\n",
       "    <tr>\n",
       "      <th>12</th>\n",
       "      <td>Clusters</td>\n",
       "      <td>G</td>\n",
       "      <td>C</td>\n",
       "      <td>110</td>\n",
       "      <td>3</td>\n",
       "      <td>2</td>\n",
       "      <td>140</td>\n",
       "      <td>2.0</td>\n",
       "      <td>13.0</td>\n",
       "      <td>7</td>\n",
       "      <td>105</td>\n",
       "      <td>25</td>\n",
       "      <td>3</td>\n",
       "      <td>1.00</td>\n",
       "      <td>0.50</td>\n",
       "      <td>40.400208</td>\n",
       "    </tr>\n",
       "    <tr>\n",
       "      <th>13</th>\n",
       "      <td>Cocoa_Puffs</td>\n",
       "      <td>G</td>\n",
       "      <td>C</td>\n",
       "      <td>110</td>\n",
       "      <td>1</td>\n",
       "      <td>1</td>\n",
       "      <td>180</td>\n",
       "      <td>0.0</td>\n",
       "      <td>12.0</td>\n",
       "      <td>13</td>\n",
       "      <td>55</td>\n",
       "      <td>25</td>\n",
       "      <td>2</td>\n",
       "      <td>1.00</td>\n",
       "      <td>1.00</td>\n",
       "      <td>22.736446</td>\n",
       "    </tr>\n",
       "    <tr>\n",
       "      <th>14</th>\n",
       "      <td>Corn_Chex</td>\n",
       "      <td>R</td>\n",
       "      <td>C</td>\n",
       "      <td>110</td>\n",
       "      <td>2</td>\n",
       "      <td>0</td>\n",
       "      <td>280</td>\n",
       "      <td>0.0</td>\n",
       "      <td>22.0</td>\n",
       "      <td>3</td>\n",
       "      <td>25</td>\n",
       "      <td>25</td>\n",
       "      <td>1</td>\n",
       "      <td>1.00</td>\n",
       "      <td>1.00</td>\n",
       "      <td>41.445019</td>\n",
       "    </tr>\n",
       "    <tr>\n",
       "      <th>15</th>\n",
       "      <td>Corn_Flakes</td>\n",
       "      <td>K</td>\n",
       "      <td>C</td>\n",
       "      <td>100</td>\n",
       "      <td>2</td>\n",
       "      <td>0</td>\n",
       "      <td>290</td>\n",
       "      <td>1.0</td>\n",
       "      <td>21.0</td>\n",
       "      <td>2</td>\n",
       "      <td>35</td>\n",
       "      <td>25</td>\n",
       "      <td>1</td>\n",
       "      <td>1.00</td>\n",
       "      <td>1.00</td>\n",
       "      <td>45.863324</td>\n",
       "    </tr>\n",
       "    <tr>\n",
       "      <th>16</th>\n",
       "      <td>Corn_Pops</td>\n",
       "      <td>K</td>\n",
       "      <td>C</td>\n",
       "      <td>110</td>\n",
       "      <td>1</td>\n",
       "      <td>0</td>\n",
       "      <td>90</td>\n",
       "      <td>1.0</td>\n",
       "      <td>13.0</td>\n",
       "      <td>12</td>\n",
       "      <td>20</td>\n",
       "      <td>25</td>\n",
       "      <td>2</td>\n",
       "      <td>1.00</td>\n",
       "      <td>1.00</td>\n",
       "      <td>35.782791</td>\n",
       "    </tr>\n",
       "    <tr>\n",
       "      <th>17</th>\n",
       "      <td>Count_Chocula</td>\n",
       "      <td>G</td>\n",
       "      <td>C</td>\n",
       "      <td>110</td>\n",
       "      <td>1</td>\n",
       "      <td>1</td>\n",
       "      <td>180</td>\n",
       "      <td>0.0</td>\n",
       "      <td>12.0</td>\n",
       "      <td>13</td>\n",
       "      <td>65</td>\n",
       "      <td>25</td>\n",
       "      <td>2</td>\n",
       "      <td>1.00</td>\n",
       "      <td>1.00</td>\n",
       "      <td>22.396513</td>\n",
       "    </tr>\n",
       "    <tr>\n",
       "      <th>18</th>\n",
       "      <td>Cracklin'_Oat_Bran</td>\n",
       "      <td>K</td>\n",
       "      <td>C</td>\n",
       "      <td>110</td>\n",
       "      <td>3</td>\n",
       "      <td>3</td>\n",
       "      <td>140</td>\n",
       "      <td>4.0</td>\n",
       "      <td>10.0</td>\n",
       "      <td>7</td>\n",
       "      <td>160</td>\n",
       "      <td>25</td>\n",
       "      <td>3</td>\n",
       "      <td>1.00</td>\n",
       "      <td>0.50</td>\n",
       "      <td>40.448772</td>\n",
       "    </tr>\n",
       "    <tr>\n",
       "      <th>19</th>\n",
       "      <td>Cream_of_Wheat_(Quick)</td>\n",
       "      <td>N</td>\n",
       "      <td>H</td>\n",
       "      <td>100</td>\n",
       "      <td>3</td>\n",
       "      <td>0</td>\n",
       "      <td>80</td>\n",
       "      <td>1.0</td>\n",
       "      <td>21.0</td>\n",
       "      <td>0</td>\n",
       "      <td>-1</td>\n",
       "      <td>0</td>\n",
       "      <td>2</td>\n",
       "      <td>1.00</td>\n",
       "      <td>1.00</td>\n",
       "      <td>64.533816</td>\n",
       "    </tr>\n",
       "  </tbody>\n",
       "</table>\n",
       "</div>"
      ],
      "text/plain": [
       "                         name mfr type  calories  protein  fat  sodium  fiber  \\\n",
       "0           100%_Natural_Bran   Q    C       120        3    5      15    2.0   \n",
       "1                    All-Bran   K    C        70        4    1     260    9.0   \n",
       "2   All-Bran_with_Extra_Fiber   K    C        50        4    0     140   14.0   \n",
       "3              Almond_Delight   R    C       110        2    2     200    1.0   \n",
       "4     Apple_Cinnamon_Cheerios   G    C       110        2    2     180    1.5   \n",
       "5                 Apple_Jacks   K    C       110        2    0     125    1.0   \n",
       "6                     Basic_4   G    C       130        3    2     210    2.0   \n",
       "7                   Bran_Chex   R    C        90        2    1     200    4.0   \n",
       "8                 Bran_Flakes   P    C        90        3    0     210    5.0   \n",
       "9                Cap'n'Crunch   Q    C       120        1    2     220    0.0   \n",
       "10                   Cheerios   G    C       110        6    2     290    2.0   \n",
       "11      Cinnamon_Toast_Crunch   G    C       120        1    3     210    0.0   \n",
       "12                   Clusters   G    C       110        3    2     140    2.0   \n",
       "13                Cocoa_Puffs   G    C       110        1    1     180    0.0   \n",
       "14                  Corn_Chex   R    C       110        2    0     280    0.0   \n",
       "15                Corn_Flakes   K    C       100        2    0     290    1.0   \n",
       "16                  Corn_Pops   K    C       110        1    0      90    1.0   \n",
       "17              Count_Chocula   G    C       110        1    1     180    0.0   \n",
       "18         Cracklin'_Oat_Bran   K    C       110        3    3     140    4.0   \n",
       "19     Cream_of_Wheat_(Quick)   N    H       100        3    0      80    1.0   \n",
       "\n",
       "    carbo  sugars  potass  vitamins  shelf  weight  cups     rating  \n",
       "0     8.0       8     135         0      3    1.00  1.00  33.983679  \n",
       "1     7.0       5     320        25      3    1.00  0.33  59.425505  \n",
       "2     8.0       0     330        25      3    1.00  0.50  93.704912  \n",
       "3    14.0       8      -1        25      3    1.00  0.75  34.384843  \n",
       "4    10.5      10      70        25      1    1.00  0.75  29.509541  \n",
       "5    11.0      14      30        25      2    1.00  1.00  33.174094  \n",
       "6    18.0       8     100        25      3    1.33  0.75  37.038562  \n",
       "7    15.0       6     125        25      1    1.00  0.67  49.120253  \n",
       "8    13.0       5     190        25      3    1.00  0.67  53.313813  \n",
       "9    12.0      12      35        25      2    1.00  0.75  18.042851  \n",
       "10   17.0       1     105        25      1    1.00  1.25  50.764999  \n",
       "11   13.0       9      45        25      2    1.00  0.75  19.823573  \n",
       "12   13.0       7     105        25      3    1.00  0.50  40.400208  \n",
       "13   12.0      13      55        25      2    1.00  1.00  22.736446  \n",
       "14   22.0       3      25        25      1    1.00  1.00  41.445019  \n",
       "15   21.0       2      35        25      1    1.00  1.00  45.863324  \n",
       "16   13.0      12      20        25      2    1.00  1.00  35.782791  \n",
       "17   12.0      13      65        25      2    1.00  1.00  22.396513  \n",
       "18   10.0       7     160        25      3    1.00  0.50  40.448772  \n",
       "19   21.0       0      -1         0      2    1.00  1.00  64.533816  "
      ]
     },
     "execution_count": 9,
     "metadata": {},
     "output_type": "execute_result"
    }
   ],
   "source": [
    "#reading the excel file - Cereals1 as a dataframe\n",
    "df = pd.read_excel(\"Cereals1.xls\")\n",
    "\n",
    "#using head function, displaying the top 20 entities\n",
    "df.head(20)"
   ]
  },
  {
   "cell_type": "markdown",
   "id": "3b91aebc",
   "metadata": {},
   "source": [
    "## Q1) Create a table with the 5-number summary of all the numeric attributes.\n"
   ]
  },
  {
   "cell_type": "code",
   "execution_count": 7,
   "id": "6d333bcc",
   "metadata": {},
   "outputs": [
    {
     "data": {
      "text/html": [
       "<div>\n",
       "<style scoped>\n",
       "    .dataframe tbody tr th:only-of-type {\n",
       "        vertical-align: middle;\n",
       "    }\n",
       "\n",
       "    .dataframe tbody tr th {\n",
       "        vertical-align: top;\n",
       "    }\n",
       "\n",
       "    .dataframe thead th {\n",
       "        text-align: right;\n",
       "    }\n",
       "</style>\n",
       "<table border=\"1\" class=\"dataframe\">\n",
       "  <thead>\n",
       "    <tr style=\"text-align: right;\">\n",
       "      <th></th>\n",
       "      <th>calories</th>\n",
       "      <th>protein</th>\n",
       "      <th>fat</th>\n",
       "      <th>sodium</th>\n",
       "      <th>fiber</th>\n",
       "      <th>carbo</th>\n",
       "      <th>sugars</th>\n",
       "      <th>potass</th>\n",
       "      <th>vitamins</th>\n",
       "      <th>shelf</th>\n",
       "      <th>weight</th>\n",
       "      <th>cups</th>\n",
       "      <th>rating</th>\n",
       "    </tr>\n",
       "  </thead>\n",
       "  <tbody>\n",
       "    <tr>\n",
       "      <th>count</th>\n",
       "      <td>76.000000</td>\n",
       "      <td>76.000000</td>\n",
       "      <td>76.000000</td>\n",
       "      <td>76.000000</td>\n",
       "      <td>76.000000</td>\n",
       "      <td>76.000000</td>\n",
       "      <td>76.000000</td>\n",
       "      <td>76.000000</td>\n",
       "      <td>76.000000</td>\n",
       "      <td>76.000000</td>\n",
       "      <td>76.000000</td>\n",
       "      <td>76.000000</td>\n",
       "      <td>76.000000</td>\n",
       "    </tr>\n",
       "    <tr>\n",
       "      <th>mean</th>\n",
       "      <td>107.368421</td>\n",
       "      <td>2.526316</td>\n",
       "      <td>1.013158</td>\n",
       "      <td>160.065789</td>\n",
       "      <td>2.048684</td>\n",
       "      <td>14.723684</td>\n",
       "      <td>6.934211</td>\n",
       "      <td>93.657895</td>\n",
       "      <td>28.289474</td>\n",
       "      <td>2.197368</td>\n",
       "      <td>1.030000</td>\n",
       "      <td>0.827500</td>\n",
       "      <td>42.327057</td>\n",
       "    </tr>\n",
       "    <tr>\n",
       "      <th>std</th>\n",
       "      <td>19.139378</td>\n",
       "      <td>1.089020</td>\n",
       "      <td>1.013159</td>\n",
       "      <td>84.318813</td>\n",
       "      <td>2.219038</td>\n",
       "      <td>4.160444</td>\n",
       "      <td>4.473136</td>\n",
       "      <td>68.502565</td>\n",
       "      <td>22.487813</td>\n",
       "      <td>0.832982</td>\n",
       "      <td>0.151438</td>\n",
       "      <td>0.227204</td>\n",
       "      <td>13.820602</td>\n",
       "    </tr>\n",
       "    <tr>\n",
       "      <th>min</th>\n",
       "      <td>50.000000</td>\n",
       "      <td>1.000000</td>\n",
       "      <td>0.000000</td>\n",
       "      <td>0.000000</td>\n",
       "      <td>0.000000</td>\n",
       "      <td>-1.000000</td>\n",
       "      <td>-1.000000</td>\n",
       "      <td>-1.000000</td>\n",
       "      <td>0.000000</td>\n",
       "      <td>1.000000</td>\n",
       "      <td>0.500000</td>\n",
       "      <td>0.250000</td>\n",
       "      <td>18.042851</td>\n",
       "    </tr>\n",
       "    <tr>\n",
       "      <th>25%</th>\n",
       "      <td>100.000000</td>\n",
       "      <td>2.000000</td>\n",
       "      <td>0.000000</td>\n",
       "      <td>132.500000</td>\n",
       "      <td>0.750000</td>\n",
       "      <td>12.000000</td>\n",
       "      <td>3.000000</td>\n",
       "      <td>40.000000</td>\n",
       "      <td>25.000000</td>\n",
       "      <td>1.000000</td>\n",
       "      <td>1.000000</td>\n",
       "      <td>0.670000</td>\n",
       "      <td>32.932466</td>\n",
       "    </tr>\n",
       "    <tr>\n",
       "      <th>50%</th>\n",
       "      <td>110.000000</td>\n",
       "      <td>2.500000</td>\n",
       "      <td>1.000000</td>\n",
       "      <td>180.000000</td>\n",
       "      <td>1.750000</td>\n",
       "      <td>14.500000</td>\n",
       "      <td>7.000000</td>\n",
       "      <td>90.000000</td>\n",
       "      <td>25.000000</td>\n",
       "      <td>2.000000</td>\n",
       "      <td>1.000000</td>\n",
       "      <td>0.750000</td>\n",
       "      <td>40.253086</td>\n",
       "    </tr>\n",
       "    <tr>\n",
       "      <th>75%</th>\n",
       "      <td>110.000000</td>\n",
       "      <td>3.000000</td>\n",
       "      <td>2.000000</td>\n",
       "      <td>212.500000</td>\n",
       "      <td>3.000000</td>\n",
       "      <td>17.000000</td>\n",
       "      <td>11.000000</td>\n",
       "      <td>120.000000</td>\n",
       "      <td>25.000000</td>\n",
       "      <td>3.000000</td>\n",
       "      <td>1.000000</td>\n",
       "      <td>1.000000</td>\n",
       "      <td>50.780847</td>\n",
       "    </tr>\n",
       "    <tr>\n",
       "      <th>max</th>\n",
       "      <td>160.000000</td>\n",
       "      <td>6.000000</td>\n",
       "      <td>5.000000</td>\n",
       "      <td>320.000000</td>\n",
       "      <td>14.000000</td>\n",
       "      <td>23.000000</td>\n",
       "      <td>15.000000</td>\n",
       "      <td>330.000000</td>\n",
       "      <td>100.000000</td>\n",
       "      <td>3.000000</td>\n",
       "      <td>1.500000</td>\n",
       "      <td>1.500000</td>\n",
       "      <td>93.704912</td>\n",
       "    </tr>\n",
       "  </tbody>\n",
       "</table>\n",
       "</div>"
      ],
      "text/plain": [
       "         calories    protein        fat      sodium      fiber      carbo  \\\n",
       "count   76.000000  76.000000  76.000000   76.000000  76.000000  76.000000   \n",
       "mean   107.368421   2.526316   1.013158  160.065789   2.048684  14.723684   \n",
       "std     19.139378   1.089020   1.013159   84.318813   2.219038   4.160444   \n",
       "min     50.000000   1.000000   0.000000    0.000000   0.000000  -1.000000   \n",
       "25%    100.000000   2.000000   0.000000  132.500000   0.750000  12.000000   \n",
       "50%    110.000000   2.500000   1.000000  180.000000   1.750000  14.500000   \n",
       "75%    110.000000   3.000000   2.000000  212.500000   3.000000  17.000000   \n",
       "max    160.000000   6.000000   5.000000  320.000000  14.000000  23.000000   \n",
       "\n",
       "          sugars      potass    vitamins      shelf     weight       cups  \\\n",
       "count  76.000000   76.000000   76.000000  76.000000  76.000000  76.000000   \n",
       "mean    6.934211   93.657895   28.289474   2.197368   1.030000   0.827500   \n",
       "std     4.473136   68.502565   22.487813   0.832982   0.151438   0.227204   \n",
       "min    -1.000000   -1.000000    0.000000   1.000000   0.500000   0.250000   \n",
       "25%     3.000000   40.000000   25.000000   1.000000   1.000000   0.670000   \n",
       "50%     7.000000   90.000000   25.000000   2.000000   1.000000   0.750000   \n",
       "75%    11.000000  120.000000   25.000000   3.000000   1.000000   1.000000   \n",
       "max    15.000000  330.000000  100.000000   3.000000   1.500000   1.500000   \n",
       "\n",
       "          rating  \n",
       "count  76.000000  \n",
       "mean   42.327057  \n",
       "std    13.820602  \n",
       "min    18.042851  \n",
       "25%    32.932466  \n",
       "50%    40.253086  \n",
       "75%    50.780847  \n",
       "max    93.704912  "
      ]
     },
     "execution_count": 7,
     "metadata": {},
     "output_type": "execute_result"
    }
   ],
   "source": [
    "#iloc is purely integer-location based indexing for selection by position.\n",
    "#using decribe() method, we can get the summary of the attributes\n",
    "\n",
    "#starting from 3 as we want the summaries of the numeric attributes.\n",
    "df.iloc[: , 3: ].describe()"
   ]
  },
  {
   "cell_type": "markdown",
   "id": "6c1fd300",
   "metadata": {},
   "source": [
    "## Q2) For each of the numeric attributes (proteins up tovitamins), identify and replace all missing data (indicated with -1) with the arithmetic mean of the attribute."
   ]
  },
  {
   "cell_type": "code",
   "execution_count": null,
   "id": "b989777d",
   "metadata": {},
   "outputs": [],
   "source": [
    "#MISSING values are indicated as -1 so if count of -1 is more than 0 then the column has a Nan value"
   ]
  },
  {
   "cell_type": "code",
   "execution_count": 11,
   "id": "437978a6",
   "metadata": {},
   "outputs": [
    {
     "data": {
      "text/plain": [
       "3    28\n",
       "2    25\n",
       "1    13\n",
       "4     7\n",
       "6     2\n",
       "5     1\n",
       "Name: protein, dtype: int64"
      ]
     },
     "execution_count": 11,
     "metadata": {},
     "output_type": "execute_result"
    }
   ],
   "source": [
    "#value_counts() returns count of unique values \n",
    "df.protein.value_counts()"
   ]
  },
  {
   "cell_type": "code",
   "execution_count": null,
   "id": "e52d92fd",
   "metadata": {},
   "outputs": [],
   "source": [
    "#has no MISSING value"
   ]
  },
  {
   "cell_type": "code",
   "execution_count": 12,
   "id": "69c1af07",
   "metadata": {},
   "outputs": [
    {
     "data": {
      "text/plain": [
       "1    29\n",
       "0    27\n",
       "2    14\n",
       "3     5\n",
       "5     1\n",
       "Name: fat, dtype: int64"
      ]
     },
     "execution_count": 12,
     "metadata": {},
     "output_type": "execute_result"
    }
   ],
   "source": [
    "df.fat.value_counts()"
   ]
  },
  {
   "cell_type": "code",
   "execution_count": null,
   "id": "ebd19296",
   "metadata": {},
   "outputs": [],
   "source": [
    "#has no MISSING value"
   ]
  },
  {
   "cell_type": "code",
   "execution_count": 13,
   "id": "ae3bd74b",
   "metadata": {
    "scrolled": true
   },
   "outputs": [
    {
     "data": {
      "text/plain": [
       "0      9\n",
       "200    8\n",
       "140    7\n",
       "180    5\n",
       "220    5\n",
       "170    5\n",
       "210    4\n",
       "150    3\n",
       "290    3\n",
       "190    3\n",
       "240    2\n",
       "250    2\n",
       "135    2\n",
       "15     2\n",
       "260    2\n",
       "280    2\n",
       "125    2\n",
       "230    2\n",
       "160    1\n",
       "80     1\n",
       "45     1\n",
       "90     1\n",
       "75     1\n",
       "95     1\n",
       "320    1\n",
       "70     1\n",
       "Name: sodium, dtype: int64"
      ]
     },
     "execution_count": 13,
     "metadata": {},
     "output_type": "execute_result"
    }
   ],
   "source": [
    "df.sodium.value_counts()"
   ]
  },
  {
   "cell_type": "code",
   "execution_count": null,
   "id": "011bb815",
   "metadata": {},
   "outputs": [],
   "source": [
    "#has no MISSING value"
   ]
  },
  {
   "cell_type": "code",
   "execution_count": 14,
   "id": "8e7b06ab",
   "metadata": {
    "scrolled": true
   },
   "outputs": [
    {
     "data": {
      "text/plain": [
       "0.0     19\n",
       "1.0     16\n",
       "3.0     15\n",
       "2.0     10\n",
       "4.0      4\n",
       "5.0      4\n",
       "1.5      3\n",
       "9.0      1\n",
       "14.0     1\n",
       "6.0      1\n",
       "2.7      1\n",
       "2.5      1\n",
       "Name: fiber, dtype: int64"
      ]
     },
     "execution_count": 14,
     "metadata": {},
     "output_type": "execute_result"
    }
   ],
   "source": [
    "df.fiber.value_counts()"
   ]
  },
  {
   "cell_type": "code",
   "execution_count": null,
   "id": "c5f0505d",
   "metadata": {},
   "outputs": [],
   "source": [
    "#has no MISSING value"
   ]
  },
  {
   "cell_type": "code",
   "execution_count": 15,
   "id": "0027fc34",
   "metadata": {
    "scrolled": true
   },
   "outputs": [
    {
     "data": {
      "text/plain": [
       " 15.0    8\n",
       " 13.0    8\n",
       " 14.0    7\n",
       " 16.0    7\n",
       " 12.0    7\n",
       " 21.0    7\n",
       " 17.0    6\n",
       " 11.0    5\n",
       " 18.0    3\n",
       " 20.0    3\n",
       " 8.0     2\n",
       " 10.0    2\n",
       " 22.0    2\n",
       " 10.5    2\n",
       " 11.5    1\n",
       " 7.0     1\n",
       " 13.5    1\n",
       "-1.0     1\n",
       " 23.0    1\n",
       " 19.0    1\n",
       " 9.0     1\n",
       "Name: carbo, dtype: int64"
      ]
     },
     "execution_count": 15,
     "metadata": {},
     "output_type": "execute_result"
    }
   ],
   "source": [
    "df.carbo.value_counts()"
   ]
  },
  {
   "cell_type": "code",
   "execution_count": null,
   "id": "bec63669",
   "metadata": {},
   "outputs": [],
   "source": [
    "#has MISSING value as count of -1 is 1"
   ]
  },
  {
   "cell_type": "code",
   "execution_count": 16,
   "id": "20f0fdd1",
   "metadata": {
    "scrolled": true
   },
   "outputs": [
    {
     "data": {
      "text/plain": [
       " 3     13\n",
       " 0      7\n",
       " 12     7\n",
       " 6      6\n",
       " 8      5\n",
       " 10     5\n",
       " 11     5\n",
       " 5      5\n",
       " 13     4\n",
       " 9      4\n",
       " 7      4\n",
       " 2      3\n",
       " 14     3\n",
       " 15     2\n",
       " 1      1\n",
       " 4      1\n",
       "-1      1\n",
       "Name: sugars, dtype: int64"
      ]
     },
     "execution_count": 16,
     "metadata": {},
     "output_type": "execute_result"
    }
   ],
   "source": [
    "df.sugars.value_counts()"
   ]
  },
  {
   "cell_type": "code",
   "execution_count": null,
   "id": "eed954a9",
   "metadata": {},
   "outputs": [],
   "source": [
    "#has MISSING value as count of -1 is 1"
   ]
  },
  {
   "cell_type": "code",
   "execution_count": 17,
   "id": "a5bda328",
   "metadata": {
    "scrolled": true
   },
   "outputs": [
    {
     "data": {
      "text/plain": [
       " 35     5\n",
       " 90     5\n",
       " 110    5\n",
       " 40     4\n",
       " 30     4\n",
       " 25     4\n",
       " 95     4\n",
       " 45     4\n",
       " 120    3\n",
       " 55     3\n",
       " 100    3\n",
       " 60     3\n",
       " 105    2\n",
       " 190    2\n",
       " 140    2\n",
       " 160    2\n",
       "-1      2\n",
       " 170    2\n",
       " 240    1\n",
       " 50     1\n",
       " 15     1\n",
       " 260    1\n",
       " 130    1\n",
       " 230    1\n",
       " 135    1\n",
       " 85     1\n",
       " 200    1\n",
       " 80     1\n",
       " 320    1\n",
       " 65     1\n",
       " 20     1\n",
       " 125    1\n",
       " 70     1\n",
       " 330    1\n",
       " 115    1\n",
       "Name: potass, dtype: int64"
      ]
     },
     "execution_count": 17,
     "metadata": {},
     "output_type": "execute_result"
    }
   ],
   "source": [
    "df.potass.value_counts()"
   ]
  },
  {
   "cell_type": "code",
   "execution_count": null,
   "id": "6b7a24a8",
   "metadata": {},
   "outputs": [],
   "source": [
    "#has MISSING value as count of -1 is 2"
   ]
  },
  {
   "cell_type": "code",
   "execution_count": 18,
   "id": "816e0e93",
   "metadata": {
    "scrolled": true
   },
   "outputs": [
    {
     "data": {
      "text/plain": [
       "25     62\n",
       "0       8\n",
       "100     6\n",
       "Name: vitamins, dtype: int64"
      ]
     },
     "execution_count": 18,
     "metadata": {},
     "output_type": "execute_result"
    }
   ],
   "source": [
    "df.vitamins.value_counts()"
   ]
  },
  {
   "cell_type": "code",
   "execution_count": null,
   "id": "0854c90f",
   "metadata": {},
   "outputs": [],
   "source": [
    "#has no MISSING value"
   ]
  },
  {
   "cell_type": "code",
   "execution_count": 19,
   "id": "ef4ad37c",
   "metadata": {},
   "outputs": [],
   "source": [
    "#INFERENCE from the above queries: \n",
    "#carbo, sugars and potass has nan values in them"
   ]
  },
  {
   "cell_type": "code",
   "execution_count": 22,
   "id": "504682b2",
   "metadata": {},
   "outputs": [],
   "source": [
    "#replacing the MISSING values by the mean of the column\n",
    "df.carbo.replace(to_replace = -1, value = df.carbo.mean(), inplace = True)\n",
    "df.sugars.replace(to_replace = -1, value = df.sugars.mean(), inplace = True)\n",
    "df.potass.replace(to_replace = -1, value = df.potass.mean(), inplace = True)"
   ]
  },
  {
   "cell_type": "markdown",
   "id": "3ae748b2",
   "metadata": {},
   "source": [
    "## Q.3) Create a table with the 5-number summary of all the numeric attributes after treating missing values.  Do you think the strategy used in dealing with missing values was effective? "
   ]
  },
  {
   "cell_type": "code",
   "execution_count": 24,
   "id": "1ddd4a61",
   "metadata": {},
   "outputs": [
    {
     "data": {
      "text/html": [
       "<div>\n",
       "<style scoped>\n",
       "    .dataframe tbody tr th:only-of-type {\n",
       "        vertical-align: middle;\n",
       "    }\n",
       "\n",
       "    .dataframe tbody tr th {\n",
       "        vertical-align: top;\n",
       "    }\n",
       "\n",
       "    .dataframe thead th {\n",
       "        text-align: right;\n",
       "    }\n",
       "</style>\n",
       "<table border=\"1\" class=\"dataframe\">\n",
       "  <thead>\n",
       "    <tr style=\"text-align: right;\">\n",
       "      <th></th>\n",
       "      <th>calories</th>\n",
       "      <th>protein</th>\n",
       "      <th>fat</th>\n",
       "      <th>sodium</th>\n",
       "      <th>fiber</th>\n",
       "      <th>carbo</th>\n",
       "      <th>sugars</th>\n",
       "      <th>potass</th>\n",
       "      <th>vitamins</th>\n",
       "      <th>shelf</th>\n",
       "      <th>weight</th>\n",
       "      <th>cups</th>\n",
       "      <th>rating</th>\n",
       "    </tr>\n",
       "  </thead>\n",
       "  <tbody>\n",
       "    <tr>\n",
       "      <th>count</th>\n",
       "      <td>76.000000</td>\n",
       "      <td>76.000000</td>\n",
       "      <td>76.000000</td>\n",
       "      <td>76.000000</td>\n",
       "      <td>76.000000</td>\n",
       "      <td>76.000000</td>\n",
       "      <td>76.000000</td>\n",
       "      <td>76.000000</td>\n",
       "      <td>76.000000</td>\n",
       "      <td>76.000000</td>\n",
       "      <td>76.000000</td>\n",
       "      <td>76.000000</td>\n",
       "      <td>76.000000</td>\n",
       "    </tr>\n",
       "    <tr>\n",
       "      <th>mean</th>\n",
       "      <td>107.368421</td>\n",
       "      <td>2.526316</td>\n",
       "      <td>1.013158</td>\n",
       "      <td>160.065789</td>\n",
       "      <td>2.048684</td>\n",
       "      <td>14.930575</td>\n",
       "      <td>7.038608</td>\n",
       "      <td>96.148892</td>\n",
       "      <td>28.289474</td>\n",
       "      <td>2.197368</td>\n",
       "      <td>1.030000</td>\n",
       "      <td>0.827500</td>\n",
       "      <td>42.327057</td>\n",
       "    </tr>\n",
       "    <tr>\n",
       "      <th>std</th>\n",
       "      <td>19.139378</td>\n",
       "      <td>1.089020</td>\n",
       "      <td>1.013159</td>\n",
       "      <td>84.318813</td>\n",
       "      <td>2.219038</td>\n",
       "      <td>3.737575</td>\n",
       "      <td>4.377048</td>\n",
       "      <td>66.688658</td>\n",
       "      <td>22.487813</td>\n",
       "      <td>0.832982</td>\n",
       "      <td>0.151438</td>\n",
       "      <td>0.227204</td>\n",
       "      <td>13.820602</td>\n",
       "    </tr>\n",
       "    <tr>\n",
       "      <th>min</th>\n",
       "      <td>50.000000</td>\n",
       "      <td>1.000000</td>\n",
       "      <td>0.000000</td>\n",
       "      <td>0.000000</td>\n",
       "      <td>0.000000</td>\n",
       "      <td>7.000000</td>\n",
       "      <td>0.000000</td>\n",
       "      <td>15.000000</td>\n",
       "      <td>0.000000</td>\n",
       "      <td>1.000000</td>\n",
       "      <td>0.500000</td>\n",
       "      <td>0.250000</td>\n",
       "      <td>18.042851</td>\n",
       "    </tr>\n",
       "    <tr>\n",
       "      <th>25%</th>\n",
       "      <td>100.000000</td>\n",
       "      <td>2.000000</td>\n",
       "      <td>0.000000</td>\n",
       "      <td>132.500000</td>\n",
       "      <td>0.750000</td>\n",
       "      <td>12.000000</td>\n",
       "      <td>3.000000</td>\n",
       "      <td>43.750000</td>\n",
       "      <td>25.000000</td>\n",
       "      <td>1.000000</td>\n",
       "      <td>1.000000</td>\n",
       "      <td>0.670000</td>\n",
       "      <td>32.932466</td>\n",
       "    </tr>\n",
       "    <tr>\n",
       "      <th>50%</th>\n",
       "      <td>110.000000</td>\n",
       "      <td>2.500000</td>\n",
       "      <td>1.000000</td>\n",
       "      <td>180.000000</td>\n",
       "      <td>1.750000</td>\n",
       "      <td>14.861842</td>\n",
       "      <td>7.000000</td>\n",
       "      <td>90.000000</td>\n",
       "      <td>25.000000</td>\n",
       "      <td>2.000000</td>\n",
       "      <td>1.000000</td>\n",
       "      <td>0.750000</td>\n",
       "      <td>40.253086</td>\n",
       "    </tr>\n",
       "    <tr>\n",
       "      <th>75%</th>\n",
       "      <td>110.000000</td>\n",
       "      <td>3.000000</td>\n",
       "      <td>2.000000</td>\n",
       "      <td>212.500000</td>\n",
       "      <td>3.000000</td>\n",
       "      <td>17.000000</td>\n",
       "      <td>11.000000</td>\n",
       "      <td>120.000000</td>\n",
       "      <td>25.000000</td>\n",
       "      <td>3.000000</td>\n",
       "      <td>1.000000</td>\n",
       "      <td>1.000000</td>\n",
       "      <td>50.780847</td>\n",
       "    </tr>\n",
       "    <tr>\n",
       "      <th>max</th>\n",
       "      <td>160.000000</td>\n",
       "      <td>6.000000</td>\n",
       "      <td>5.000000</td>\n",
       "      <td>320.000000</td>\n",
       "      <td>14.000000</td>\n",
       "      <td>23.000000</td>\n",
       "      <td>15.000000</td>\n",
       "      <td>330.000000</td>\n",
       "      <td>100.000000</td>\n",
       "      <td>3.000000</td>\n",
       "      <td>1.500000</td>\n",
       "      <td>1.500000</td>\n",
       "      <td>93.704912</td>\n",
       "    </tr>\n",
       "  </tbody>\n",
       "</table>\n",
       "</div>"
      ],
      "text/plain": [
       "         calories    protein        fat      sodium      fiber      carbo  \\\n",
       "count   76.000000  76.000000  76.000000   76.000000  76.000000  76.000000   \n",
       "mean   107.368421   2.526316   1.013158  160.065789   2.048684  14.930575   \n",
       "std     19.139378   1.089020   1.013159   84.318813   2.219038   3.737575   \n",
       "min     50.000000   1.000000   0.000000    0.000000   0.000000   7.000000   \n",
       "25%    100.000000   2.000000   0.000000  132.500000   0.750000  12.000000   \n",
       "50%    110.000000   2.500000   1.000000  180.000000   1.750000  14.861842   \n",
       "75%    110.000000   3.000000   2.000000  212.500000   3.000000  17.000000   \n",
       "max    160.000000   6.000000   5.000000  320.000000  14.000000  23.000000   \n",
       "\n",
       "          sugars      potass    vitamins      shelf     weight       cups  \\\n",
       "count  76.000000   76.000000   76.000000  76.000000  76.000000  76.000000   \n",
       "mean    7.038608   96.148892   28.289474   2.197368   1.030000   0.827500   \n",
       "std     4.377048   66.688658   22.487813   0.832982   0.151438   0.227204   \n",
       "min     0.000000   15.000000    0.000000   1.000000   0.500000   0.250000   \n",
       "25%     3.000000   43.750000   25.000000   1.000000   1.000000   0.670000   \n",
       "50%     7.000000   90.000000   25.000000   2.000000   1.000000   0.750000   \n",
       "75%    11.000000  120.000000   25.000000   3.000000   1.000000   1.000000   \n",
       "max    15.000000  330.000000  100.000000   3.000000   1.500000   1.500000   \n",
       "\n",
       "          rating  \n",
       "count  76.000000  \n",
       "mean   42.327057  \n",
       "std    13.820602  \n",
       "min    18.042851  \n",
       "25%    32.932466  \n",
       "50%    40.253086  \n",
       "75%    50.780847  \n",
       "max    93.704912  "
      ]
     },
     "execution_count": 24,
     "metadata": {},
     "output_type": "execute_result"
    }
   ],
   "source": [
    "df.iloc[: , 3: ].describe() #extracting the number summary of all numeric attributes"
   ]
  },
  {
   "cell_type": "code",
   "execution_count": null,
   "id": "777b26f4",
   "metadata": {},
   "outputs": [],
   "source": [
    "#YES, the strategy used in dealing the missing values with MEAN was effective as it helps the data to be SYMMETRIC\n",
    "#if we would have replaced them with median, then the data would have become SKEWED."
   ]
  },
  {
   "cell_type": "markdown",
   "id": "c224643e",
   "metadata": {},
   "source": [
    "## Q.4) For each of the numeric attributes (proteins up tovitamins), identify and replace all noisy data with the median of attribute.\n"
   ]
  },
  {
   "cell_type": "code",
   "execution_count": 25,
   "id": "6ba93bf5",
   "metadata": {},
   "outputs": [
    {
     "data": {
      "text/html": [
       "<div>\n",
       "<style scoped>\n",
       "    .dataframe tbody tr th:only-of-type {\n",
       "        vertical-align: middle;\n",
       "    }\n",
       "\n",
       "    .dataframe tbody tr th {\n",
       "        vertical-align: top;\n",
       "    }\n",
       "\n",
       "    .dataframe thead th {\n",
       "        text-align: right;\n",
       "    }\n",
       "</style>\n",
       "<table border=\"1\" class=\"dataframe\">\n",
       "  <thead>\n",
       "    <tr style=\"text-align: right;\">\n",
       "      <th></th>\n",
       "      <th>name</th>\n",
       "      <th>mfr</th>\n",
       "      <th>type</th>\n",
       "      <th>calories</th>\n",
       "      <th>protein</th>\n",
       "      <th>fat</th>\n",
       "      <th>sodium</th>\n",
       "      <th>fiber</th>\n",
       "      <th>carbo</th>\n",
       "      <th>sugars</th>\n",
       "      <th>potass</th>\n",
       "      <th>vitamins</th>\n",
       "      <th>shelf</th>\n",
       "      <th>weight</th>\n",
       "      <th>cups</th>\n",
       "      <th>rating</th>\n",
       "    </tr>\n",
       "  </thead>\n",
       "  <tbody>\n",
       "    <tr>\n",
       "      <th>0</th>\n",
       "      <td>100%_Natural_Bran</td>\n",
       "      <td>Q</td>\n",
       "      <td>C</td>\n",
       "      <td>120</td>\n",
       "      <td>3</td>\n",
       "      <td>5</td>\n",
       "      <td>15</td>\n",
       "      <td>2.0</td>\n",
       "      <td>8.0</td>\n",
       "      <td>8.0</td>\n",
       "      <td>135.000000</td>\n",
       "      <td>0</td>\n",
       "      <td>3</td>\n",
       "      <td>1.0</td>\n",
       "      <td>1.00</td>\n",
       "      <td>33.983679</td>\n",
       "    </tr>\n",
       "    <tr>\n",
       "      <th>1</th>\n",
       "      <td>All-Bran</td>\n",
       "      <td>K</td>\n",
       "      <td>C</td>\n",
       "      <td>70</td>\n",
       "      <td>4</td>\n",
       "      <td>1</td>\n",
       "      <td>260</td>\n",
       "      <td>9.0</td>\n",
       "      <td>7.0</td>\n",
       "      <td>5.0</td>\n",
       "      <td>320.000000</td>\n",
       "      <td>25</td>\n",
       "      <td>3</td>\n",
       "      <td>1.0</td>\n",
       "      <td>0.33</td>\n",
       "      <td>59.425505</td>\n",
       "    </tr>\n",
       "    <tr>\n",
       "      <th>2</th>\n",
       "      <td>All-Bran_with_Extra_Fiber</td>\n",
       "      <td>K</td>\n",
       "      <td>C</td>\n",
       "      <td>50</td>\n",
       "      <td>4</td>\n",
       "      <td>0</td>\n",
       "      <td>140</td>\n",
       "      <td>14.0</td>\n",
       "      <td>8.0</td>\n",
       "      <td>0.0</td>\n",
       "      <td>330.000000</td>\n",
       "      <td>25</td>\n",
       "      <td>3</td>\n",
       "      <td>1.0</td>\n",
       "      <td>0.50</td>\n",
       "      <td>93.704912</td>\n",
       "    </tr>\n",
       "    <tr>\n",
       "      <th>3</th>\n",
       "      <td>Almond_Delight</td>\n",
       "      <td>R</td>\n",
       "      <td>C</td>\n",
       "      <td>110</td>\n",
       "      <td>2</td>\n",
       "      <td>2</td>\n",
       "      <td>200</td>\n",
       "      <td>1.0</td>\n",
       "      <td>14.0</td>\n",
       "      <td>8.0</td>\n",
       "      <td>93.657895</td>\n",
       "      <td>25</td>\n",
       "      <td>3</td>\n",
       "      <td>1.0</td>\n",
       "      <td>0.75</td>\n",
       "      <td>34.384843</td>\n",
       "    </tr>\n",
       "    <tr>\n",
       "      <th>4</th>\n",
       "      <td>Apple_Cinnamon_Cheerios</td>\n",
       "      <td>G</td>\n",
       "      <td>C</td>\n",
       "      <td>110</td>\n",
       "      <td>2</td>\n",
       "      <td>2</td>\n",
       "      <td>180</td>\n",
       "      <td>1.5</td>\n",
       "      <td>10.5</td>\n",
       "      <td>10.0</td>\n",
       "      <td>70.000000</td>\n",
       "      <td>25</td>\n",
       "      <td>1</td>\n",
       "      <td>1.0</td>\n",
       "      <td>0.75</td>\n",
       "      <td>29.509541</td>\n",
       "    </tr>\n",
       "  </tbody>\n",
       "</table>\n",
       "</div>"
      ],
      "text/plain": [
       "                        name mfr type  calories  protein  fat  sodium  fiber  \\\n",
       "0          100%_Natural_Bran   Q    C       120        3    5      15    2.0   \n",
       "1                   All-Bran   K    C        70        4    1     260    9.0   \n",
       "2  All-Bran_with_Extra_Fiber   K    C        50        4    0     140   14.0   \n",
       "3             Almond_Delight   R    C       110        2    2     200    1.0   \n",
       "4    Apple_Cinnamon_Cheerios   G    C       110        2    2     180    1.5   \n",
       "\n",
       "   carbo  sugars      potass  vitamins  shelf  weight  cups     rating  \n",
       "0    8.0     8.0  135.000000         0      3     1.0  1.00  33.983679  \n",
       "1    7.0     5.0  320.000000        25      3     1.0  0.33  59.425505  \n",
       "2    8.0     0.0  330.000000        25      3     1.0  0.50  93.704912  \n",
       "3   14.0     8.0   93.657895        25      3     1.0  0.75  34.384843  \n",
       "4   10.5    10.0   70.000000        25      1     1.0  0.75  29.509541  "
      ]
     },
     "execution_count": 25,
     "metadata": {},
     "output_type": "execute_result"
    }
   ],
   "source": [
    "df.head() #showing the top 5 entities"
   ]
  },
  {
   "cell_type": "code",
   "execution_count": 29,
   "id": "6c49afa7",
   "metadata": {},
   "outputs": [
    {
     "name": "stderr",
     "output_type": "stream",
     "text": [
      "C:\\Python39\\lib\\site-packages\\seaborn\\_decorators.py:36: FutureWarning: Pass the following variable as a keyword arg: x. From version 0.12, the only valid positional argument will be `data`, and passing other arguments without an explicit keyword will result in an error or misinterpretation.\n",
      "  warnings.warn(\n"
     ]
    },
    {
     "data": {
      "text/plain": [
       "<AxesSubplot:xlabel='protein'>"
      ]
     },
     "execution_count": 29,
     "metadata": {},
     "output_type": "execute_result"
    },
    {
     "data": {
      "image/png": "[encoded data removed]",
      "text/plain": [
       "<Figure size 432x288 with 1 Axes>"
      ]
     },
     "metadata": {
      "needs_background": "light"
     },
     "output_type": "display_data"
    }
   ],
   "source": [
    "#printing the boxplot for protein \n",
    "sns.boxplot(df.protein) "
   ]
  },
  {
   "cell_type": "code",
   "execution_count": 31,
   "id": "ed29e0ef",
   "metadata": {},
   "outputs": [],
   "source": [
    "# we can see the outliers are 5 and 6 when it comes to protein"
   ]
  },
  {
   "cell_type": "code",
   "execution_count": 32,
   "id": "f48fbb10",
   "metadata": {},
   "outputs": [],
   "source": [
    "df.loc[df.protein >= 5, 'protein'] = df.protein.median() #replacing the outliers with median value"
   ]
  },
  {
   "cell_type": "code",
   "execution_count": 33,
   "id": "ff57bfa7",
   "metadata": {},
   "outputs": [
    {
     "name": "stderr",
     "output_type": "stream",
     "text": [
      "C:\\Python39\\lib\\site-packages\\seaborn\\_decorators.py:36: FutureWarning: Pass the following variable as a keyword arg: x. From version 0.12, the only valid positional argument will be `data`, and passing other arguments without an explicit keyword will result in an error or misinterpretation.\n",
      "  warnings.warn(\n"
     ]
    },
    {
     "data": {
      "text/plain": [
       "<AxesSubplot:xlabel='fat'>"
      ]
     },
     "execution_count": 33,
     "metadata": {},
     "output_type": "execute_result"
    },
    {
     "data": {
      "image/png": "[encoded data removed]",
      "text/plain": [
       "<Figure size 432x288 with 1 Axes>"
      ]
     },
     "metadata": {
      "needs_background": "light"
     },
     "output_type": "display_data"
    }
   ],
   "source": [
    "#printing the boxplot for fat \n",
    "sns.boxplot(df.fat)"
   ]
  },
  {
   "cell_type": "code",
   "execution_count": 35,
   "id": "865a019f",
   "metadata": {},
   "outputs": [],
   "source": [
    "df.loc[df.fat > 3, 'fat'] = df.fat.median() #replacing the outliers with median value"
   ]
  },
  {
   "cell_type": "code",
   "execution_count": 36,
   "id": "0b129957",
   "metadata": {},
   "outputs": [
    {
     "name": "stderr",
     "output_type": "stream",
     "text": [
      "C:\\Python39\\lib\\site-packages\\seaborn\\_decorators.py:36: FutureWarning: Pass the following variable as a keyword arg: x. From version 0.12, the only valid positional argument will be `data`, and passing other arguments without an explicit keyword will result in an error or misinterpretation.\n",
      "  warnings.warn(\n"
     ]
    },
    {
     "data": {
      "text/plain": [
       "<AxesSubplot:xlabel='sodium'>"
      ]
     },
     "execution_count": 36,
     "metadata": {},
     "output_type": "execute_result"
    },
    {
     "data": {
      "image/png": "[encoded data removed]",
      "text/plain": [
       "<Figure size 432x288 with 1 Axes>"
      ]
     },
     "metadata": {
      "needs_background": "light"
     },
     "output_type": "display_data"
    }
   ],
   "source": [
    "#printing the boxplot for sodium \n",
    "sns.boxplot(df.sodium)"
   ]
  },
  {
   "cell_type": "code",
   "execution_count": 37,
   "id": "6fd382d0",
   "metadata": {},
   "outputs": [],
   "source": [
    "df.loc[df.sodium > 250, 'sodium'] = df.sodium.median() #replacing the outliers (right) with median value\n",
    "df.loc[df.sodium < 100, 'sodium'] = df.sodium.median() #replacing the outliers (left) with median value"
   ]
  },
  {
   "cell_type": "code",
   "execution_count": 38,
   "id": "3425f1b6",
   "metadata": {},
   "outputs": [
    {
     "name": "stderr",
     "output_type": "stream",
     "text": [
      "C:\\Python39\\lib\\site-packages\\seaborn\\_decorators.py:36: FutureWarning: Pass the following variable as a keyword arg: x. From version 0.12, the only valid positional argument will be `data`, and passing other arguments without an explicit keyword will result in an error or misinterpretation.\n",
      "  warnings.warn(\n"
     ]
    },
    {
     "data": {
      "text/plain": [
       "<AxesSubplot:xlabel='fiber'>"
      ]
     },
     "execution_count": 38,
     "metadata": {},
     "output_type": "execute_result"
    },
    {
     "data": {
      "image/png": "[encoded data removed]",
      "text/plain": [
       "<Figure size 432x288 with 1 Axes>"
      ]
     },
     "metadata": {
      "needs_background": "light"
     },
     "output_type": "display_data"
    }
   ],
   "source": [
    "#printing the boxplot for fiber \n",
    "sns.boxplot(df.fiber)"
   ]
  },
  {
   "cell_type": "code",
   "execution_count": 39,
   "id": "cfb96a4c",
   "metadata": {},
   "outputs": [],
   "source": [
    "df.loc[df.fiber > 6, 'fiber'] = df.fiber.median() #replacing the outliers with median value"
   ]
  },
  {
   "cell_type": "code",
   "execution_count": 40,
   "id": "d598d8cd",
   "metadata": {},
   "outputs": [
    {
     "name": "stderr",
     "output_type": "stream",
     "text": [
      "C:\\Python39\\lib\\site-packages\\seaborn\\_decorators.py:36: FutureWarning: Pass the following variable as a keyword arg: x. From version 0.12, the only valid positional argument will be `data`, and passing other arguments without an explicit keyword will result in an error or misinterpretation.\n",
      "  warnings.warn(\n"
     ]
    },
    {
     "data": {
      "text/plain": [
       "<AxesSubplot:xlabel='carbo'>"
      ]
     },
     "execution_count": 40,
     "metadata": {},
     "output_type": "execute_result"
    },
    {
     "data": {
      "image/png": "[encoded data removed]",
      "text/plain": [
       "<Figure size 432x288 with 1 Axes>"
      ]
     },
     "metadata": {
      "needs_background": "light"
     },
     "output_type": "display_data"
    }
   ],
   "source": [
    "#printing the boxplot for carbo \n",
    "sns.boxplot(df.carbo)"
   ]
  },
  {
   "cell_type": "code",
   "execution_count": 41,
   "id": "e312716e",
   "metadata": {},
   "outputs": [],
   "source": [
    "df.loc[df.carbo > 18, 'carbo'] = df.carbo.median()\n",
    "df.loc[df.carbo < 8, 'carbo'] = df.carbo.median()\n",
    "#although no significant outliers can be seen from the boxplot"
   ]
  },
  {
   "cell_type": "code",
   "execution_count": 42,
   "id": "d55a93c2",
   "metadata": {},
   "outputs": [
    {
     "name": "stderr",
     "output_type": "stream",
     "text": [
      "C:\\Python39\\lib\\site-packages\\seaborn\\_decorators.py:36: FutureWarning: Pass the following variable as a keyword arg: x. From version 0.12, the only valid positional argument will be `data`, and passing other arguments without an explicit keyword will result in an error or misinterpretation.\n",
      "  warnings.warn(\n"
     ]
    },
    {
     "data": {
      "text/plain": [
       "<AxesSubplot:xlabel='sugars'>"
      ]
     },
     "execution_count": 42,
     "metadata": {},
     "output_type": "execute_result"
    },
    {
     "data": {
      "image/png": "[encoded data removed]",
      "text/plain": [
       "<Figure size 432x288 with 1 Axes>"
      ]
     },
     "metadata": {
      "needs_background": "light"
     },
     "output_type": "display_data"
    }
   ],
   "source": [
    "#printing the boxplot for sugars \n",
    "sns.boxplot(df.sugars)"
   ]
  },
  {
   "cell_type": "code",
   "execution_count": 43,
   "id": "102c0554",
   "metadata": {},
   "outputs": [],
   "source": [
    "df.loc[df.sugars < 2, 'sugars'] = df.sugars.median()\n",
    "df.loc[df.sugars > 12, 'sugars'] = df.sugars.median()\n",
    "#although no significant outliers can be seen from the boxplot"
   ]
  },
  {
   "cell_type": "code",
   "execution_count": 44,
   "id": "3d5674da",
   "metadata": {},
   "outputs": [
    {
     "name": "stderr",
     "output_type": "stream",
     "text": [
      "C:\\Python39\\lib\\site-packages\\seaborn\\_decorators.py:36: FutureWarning: Pass the following variable as a keyword arg: x. From version 0.12, the only valid positional argument will be `data`, and passing other arguments without an explicit keyword will result in an error or misinterpretation.\n",
      "  warnings.warn(\n"
     ]
    },
    {
     "data": {
      "text/plain": [
       "<AxesSubplot:xlabel='potass'>"
      ]
     },
     "execution_count": 44,
     "metadata": {},
     "output_type": "execute_result"
    },
    {
     "data": {
      "image/png": "[encoded data removed]",
      "text/plain": [
       "<Figure size 432x288 with 1 Axes>"
      ]
     },
     "metadata": {
      "needs_background": "light"
     },
     "output_type": "display_data"
    }
   ],
   "source": [
    "#printing the boxplot for potass \n",
    "sns.boxplot(df.potass)"
   ]
  },
  {
   "cell_type": "code",
   "execution_count": 45,
   "id": "f0c222f5",
   "metadata": {},
   "outputs": [],
   "source": [
    "df.loc[df.potass > 150, 'potass'] = df.potass.median() #replacing the outliers with median value"
   ]
  },
  {
   "cell_type": "code",
   "execution_count": 46,
   "id": "9637f5a9",
   "metadata": {},
   "outputs": [
    {
     "name": "stderr",
     "output_type": "stream",
     "text": [
      "C:\\Python39\\lib\\site-packages\\seaborn\\_decorators.py:36: FutureWarning: Pass the following variable as a keyword arg: x. From version 0.12, the only valid positional argument will be `data`, and passing other arguments without an explicit keyword will result in an error or misinterpretation.\n",
      "  warnings.warn(\n"
     ]
    },
    {
     "data": {
      "text/plain": [
       "<AxesSubplot:xlabel='vitamins'>"
      ]
     },
     "execution_count": 46,
     "metadata": {},
     "output_type": "execute_result"
    },
    {
     "data": {
      "image/png": "[encoded data removed]",
      "text/plain": [
       "<Figure size 432x288 with 1 Axes>"
      ]
     },
     "metadata": {
      "needs_background": "light"
     },
     "output_type": "display_data"
    }
   ],
   "source": [
    "#printing the boxplot for vitamins \n",
    "sns.boxplot(df.vitamins)"
   ]
  },
  {
   "cell_type": "markdown",
   "id": "22f1e8c7",
   "metadata": {},
   "source": [
    "## Q.5) Create a table with the 5-number summary of all the numeric attributes after treating noisy values.  Do you think the strategy used in dealing with noisy values was effective? "
   ]
  },
  {
   "cell_type": "code",
   "execution_count": 47,
   "id": "c2fd02b1",
   "metadata": {},
   "outputs": [
    {
     "data": {
      "text/html": [
       "<div>\n",
       "<style scoped>\n",
       "    .dataframe tbody tr th:only-of-type {\n",
       "        vertical-align: middle;\n",
       "    }\n",
       "\n",
       "    .dataframe tbody tr th {\n",
       "        vertical-align: top;\n",
       "    }\n",
       "\n",
       "    .dataframe thead th {\n",
       "        text-align: right;\n",
       "    }\n",
       "</style>\n",
       "<table border=\"1\" class=\"dataframe\">\n",
       "  <thead>\n",
       "    <tr style=\"text-align: right;\">\n",
       "      <th></th>\n",
       "      <th>calories</th>\n",
       "      <th>protein</th>\n",
       "      <th>fat</th>\n",
       "      <th>sodium</th>\n",
       "      <th>fiber</th>\n",
       "      <th>carbo</th>\n",
       "      <th>sugars</th>\n",
       "      <th>potass</th>\n",
       "      <th>vitamins</th>\n",
       "      <th>shelf</th>\n",
       "      <th>weight</th>\n",
       "      <th>cups</th>\n",
       "      <th>rating</th>\n",
       "    </tr>\n",
       "  </thead>\n",
       "  <tbody>\n",
       "    <tr>\n",
       "      <th>count</th>\n",
       "      <td>76.000000</td>\n",
       "      <td>76.000000</td>\n",
       "      <td>76.000000</td>\n",
       "      <td>76.000000</td>\n",
       "      <td>76.000000</td>\n",
       "      <td>76.000000</td>\n",
       "      <td>76.000000</td>\n",
       "      <td>76.000000</td>\n",
       "      <td>76.000000</td>\n",
       "      <td>76.000000</td>\n",
       "      <td>76.000000</td>\n",
       "      <td>76.000000</td>\n",
       "      <td>76.000000</td>\n",
       "    </tr>\n",
       "    <tr>\n",
       "      <th>mean</th>\n",
       "      <td>107.368421</td>\n",
       "      <td>2.401316</td>\n",
       "      <td>0.960526</td>\n",
       "      <td>183.026316</td>\n",
       "      <td>1.792105</td>\n",
       "      <td>13.915556</td>\n",
       "      <td>6.959661</td>\n",
       "      <td>75.885734</td>\n",
       "      <td>28.289474</td>\n",
       "      <td>2.197368</td>\n",
       "      <td>1.030000</td>\n",
       "      <td>0.827500</td>\n",
       "      <td>42.327057</td>\n",
       "    </tr>\n",
       "    <tr>\n",
       "      <th>std</th>\n",
       "      <td>19.139378</td>\n",
       "      <td>0.875670</td>\n",
       "      <td>0.900974</td>\n",
       "      <td>28.589963</td>\n",
       "      <td>1.520220</td>\n",
       "      <td>2.280377</td>\n",
       "      <td>2.918631</td>\n",
       "      <td>33.682163</td>\n",
       "      <td>22.487813</td>\n",
       "      <td>0.832982</td>\n",
       "      <td>0.151438</td>\n",
       "      <td>0.227204</td>\n",
       "      <td>13.820602</td>\n",
       "    </tr>\n",
       "    <tr>\n",
       "      <th>min</th>\n",
       "      <td>50.000000</td>\n",
       "      <td>1.000000</td>\n",
       "      <td>0.000000</td>\n",
       "      <td>125.000000</td>\n",
       "      <td>0.000000</td>\n",
       "      <td>8.000000</td>\n",
       "      <td>2.000000</td>\n",
       "      <td>15.000000</td>\n",
       "      <td>0.000000</td>\n",
       "      <td>1.000000</td>\n",
       "      <td>0.500000</td>\n",
       "      <td>0.250000</td>\n",
       "      <td>18.042851</td>\n",
       "    </tr>\n",
       "    <tr>\n",
       "      <th>25%</th>\n",
       "      <td>100.000000</td>\n",
       "      <td>2.000000</td>\n",
       "      <td>0.000000</td>\n",
       "      <td>170.000000</td>\n",
       "      <td>0.750000</td>\n",
       "      <td>12.000000</td>\n",
       "      <td>5.000000</td>\n",
       "      <td>43.750000</td>\n",
       "      <td>25.000000</td>\n",
       "      <td>1.000000</td>\n",
       "      <td>1.000000</td>\n",
       "      <td>0.670000</td>\n",
       "      <td>32.932466</td>\n",
       "    </tr>\n",
       "    <tr>\n",
       "      <th>50%</th>\n",
       "      <td>110.000000</td>\n",
       "      <td>2.250000</td>\n",
       "      <td>1.000000</td>\n",
       "      <td>180.000000</td>\n",
       "      <td>1.625000</td>\n",
       "      <td>14.827303</td>\n",
       "      <td>7.000000</td>\n",
       "      <td>90.000000</td>\n",
       "      <td>25.000000</td>\n",
       "      <td>2.000000</td>\n",
       "      <td>1.000000</td>\n",
       "      <td>0.750000</td>\n",
       "      <td>40.253086</td>\n",
       "    </tr>\n",
       "    <tr>\n",
       "      <th>75%</th>\n",
       "      <td>110.000000</td>\n",
       "      <td>3.000000</td>\n",
       "      <td>1.250000</td>\n",
       "      <td>200.000000</td>\n",
       "      <td>3.000000</td>\n",
       "      <td>15.000000</td>\n",
       "      <td>9.000000</td>\n",
       "      <td>96.250000</td>\n",
       "      <td>25.000000</td>\n",
       "      <td>3.000000</td>\n",
       "      <td>1.000000</td>\n",
       "      <td>1.000000</td>\n",
       "      <td>50.780847</td>\n",
       "    </tr>\n",
       "    <tr>\n",
       "      <th>max</th>\n",
       "      <td>160.000000</td>\n",
       "      <td>4.000000</td>\n",
       "      <td>3.000000</td>\n",
       "      <td>250.000000</td>\n",
       "      <td>6.000000</td>\n",
       "      <td>18.000000</td>\n",
       "      <td>12.000000</td>\n",
       "      <td>140.000000</td>\n",
       "      <td>100.000000</td>\n",
       "      <td>3.000000</td>\n",
       "      <td>1.500000</td>\n",
       "      <td>1.500000</td>\n",
       "      <td>93.704912</td>\n",
       "    </tr>\n",
       "  </tbody>\n",
       "</table>\n",
       "</div>"
      ],
      "text/plain": [
       "         calories    protein        fat      sodium      fiber      carbo  \\\n",
       "count   76.000000  76.000000  76.000000   76.000000  76.000000  76.000000   \n",
       "mean   107.368421   2.401316   0.960526  183.026316   1.792105  13.915556   \n",
       "std     19.139378   0.875670   0.900974   28.589963   1.520220   2.280377   \n",
       "min     50.000000   1.000000   0.000000  125.000000   0.000000   8.000000   \n",
       "25%    100.000000   2.000000   0.000000  170.000000   0.750000  12.000000   \n",
       "50%    110.000000   2.250000   1.000000  180.000000   1.625000  14.827303   \n",
       "75%    110.000000   3.000000   1.250000  200.000000   3.000000  15.000000   \n",
       "max    160.000000   4.000000   3.000000  250.000000   6.000000  18.000000   \n",
       "\n",
       "          sugars      potass    vitamins      shelf     weight       cups  \\\n",
       "count  76.000000   76.000000   76.000000  76.000000  76.000000  76.000000   \n",
       "mean    6.959661   75.885734   28.289474   2.197368   1.030000   0.827500   \n",
       "std     2.918631   33.682163   22.487813   0.832982   0.151438   0.227204   \n",
       "min     2.000000   15.000000    0.000000   1.000000   0.500000   0.250000   \n",
       "25%     5.000000   43.750000   25.000000   1.000000   1.000000   0.670000   \n",
       "50%     7.000000   90.000000   25.000000   2.000000   1.000000   0.750000   \n",
       "75%     9.000000   96.250000   25.000000   3.000000   1.000000   1.000000   \n",
       "max    12.000000  140.000000  100.000000   3.000000   1.500000   1.500000   \n",
       "\n",
       "          rating  \n",
       "count  76.000000  \n",
       "mean   42.327057  \n",
       "std    13.820602  \n",
       "min    18.042851  \n",
       "25%    32.932466  \n",
       "50%    40.253086  \n",
       "75%    50.780847  \n",
       "max    93.704912  "
      ]
     },
     "execution_count": 47,
     "metadata": {},
     "output_type": "execute_result"
    }
   ],
   "source": [
    "df.iloc[: , 3: ].describe() #number summary"
   ]
  },
  {
   "cell_type": "code",
   "execution_count": null,
   "id": "b66fe28b",
   "metadata": {},
   "outputs": [],
   "source": [
    "#replacing noisy value with median value is the effective way as it makes all of the values to lie around the median (or central) value"
   ]
  },
  {
   "cell_type": "markdown",
   "id": "780f6989",
   "metadata": {},
   "source": [
    "## Q.6) Cross tabulate the type of cereal (hot vs cold) against the manufacturer "
   ]
  },
  {
   "cell_type": "code",
   "execution_count": 48,
   "id": "15648e96",
   "metadata": {},
   "outputs": [
    {
     "data": {
      "text/html": [
       "<div>\n",
       "<style scoped>\n",
       "    .dataframe tbody tr th:only-of-type {\n",
       "        vertical-align: middle;\n",
       "    }\n",
       "\n",
       "    .dataframe tbody tr th {\n",
       "        vertical-align: top;\n",
       "    }\n",
       "\n",
       "    .dataframe thead th {\n",
       "        text-align: right;\n",
       "    }\n",
       "</style>\n",
       "<table border=\"1\" class=\"dataframe\">\n",
       "  <thead>\n",
       "    <tr style=\"text-align: right;\">\n",
       "      <th>mfr</th>\n",
       "      <th>A</th>\n",
       "      <th>G</th>\n",
       "      <th>K</th>\n",
       "      <th>N</th>\n",
       "      <th>P</th>\n",
       "      <th>Q</th>\n",
       "      <th>R</th>\n",
       "    </tr>\n",
       "    <tr>\n",
       "      <th>type</th>\n",
       "      <th></th>\n",
       "      <th></th>\n",
       "      <th></th>\n",
       "      <th></th>\n",
       "      <th></th>\n",
       "      <th></th>\n",
       "      <th></th>\n",
       "    </tr>\n",
       "  </thead>\n",
       "  <tbody>\n",
       "    <tr>\n",
       "      <th>C</th>\n",
       "      <td>0</td>\n",
       "      <td>22</td>\n",
       "      <td>23</td>\n",
       "      <td>4</td>\n",
       "      <td>9</td>\n",
       "      <td>7</td>\n",
       "      <td>8</td>\n",
       "    </tr>\n",
       "    <tr>\n",
       "      <th>H</th>\n",
       "      <td>1</td>\n",
       "      <td>0</td>\n",
       "      <td>0</td>\n",
       "      <td>1</td>\n",
       "      <td>0</td>\n",
       "      <td>1</td>\n",
       "      <td>0</td>\n",
       "    </tr>\n",
       "  </tbody>\n",
       "</table>\n",
       "</div>"
      ],
      "text/plain": [
       "mfr   A   G   K  N  P  Q  R\n",
       "type                       \n",
       "C     0  22  23  4  9  7  8\n",
       "H     1   0   0  1  0  1  0"
      ]
     },
     "execution_count": 48,
     "metadata": {},
     "output_type": "execute_result"
    }
   ],
   "source": [
    "pd.crosstab(df.type, df.mfr) #cross tabulation of hot cereal vs cold cereal"
   ]
  },
  {
   "cell_type": "markdown",
   "id": "f77cef3a",
   "metadata": {},
   "source": [
    "## Q.7) Which is the cereal with the best rating, worst rating? "
   ]
  },
  {
   "cell_type": "code",
   "execution_count": 49,
   "id": "d38271ff",
   "metadata": {},
   "outputs": [
    {
     "data": {
      "text/plain": [
       "2    All-Bran_with_Extra_Fiber\n",
       "Name: name, dtype: object"
      ]
     },
     "execution_count": 49,
     "metadata": {},
     "output_type": "execute_result"
    }
   ],
   "source": [
    "df.name[df.rating == df.rating.max()]"
   ]
  },
  {
   "cell_type": "code",
   "execution_count": null,
   "id": "8de9ad0f",
   "metadata": {},
   "outputs": [],
   "source": [
    "#All-Brain_with_Extra_Fiber has the worst rating which is 2."
   ]
  },
  {
   "cell_type": "code",
   "execution_count": 50,
   "id": "81396810",
   "metadata": {
    "scrolled": true
   },
   "outputs": [
    {
     "data": {
      "text/plain": [
       "9    Cap'n'Crunch\n",
       "Name: name, dtype: object"
      ]
     },
     "execution_count": 50,
     "metadata": {},
     "output_type": "execute_result"
    }
   ],
   "source": [
    "df.name[df.rating == df.rating.min()]"
   ]
  },
  {
   "cell_type": "code",
   "execution_count": null,
   "id": "154f20f5",
   "metadata": {},
   "outputs": [],
   "source": [
    "#Cap'n'Crunch has the best rating which is 9."
   ]
  },
  {
   "cell_type": "markdown",
   "id": "7720a817",
   "metadata": {},
   "source": [
    "## Q.8) Plot a side-by-side boxplot comparing the consumer rating of hot vs. cold cereals. "
   ]
  },
  {
   "cell_type": "code",
   "execution_count": 51,
   "id": "de124831",
   "metadata": {},
   "outputs": [
    {
     "data": {
      "text/html": [
       "<div>\n",
       "<style scoped>\n",
       "    .dataframe tbody tr th:only-of-type {\n",
       "        vertical-align: middle;\n",
       "    }\n",
       "\n",
       "    .dataframe tbody tr th {\n",
       "        vertical-align: top;\n",
       "    }\n",
       "\n",
       "    .dataframe thead th {\n",
       "        text-align: right;\n",
       "    }\n",
       "</style>\n",
       "<table border=\"1\" class=\"dataframe\">\n",
       "  <thead>\n",
       "    <tr style=\"text-align: right;\">\n",
       "      <th></th>\n",
       "      <th>name</th>\n",
       "      <th>mfr</th>\n",
       "      <th>type</th>\n",
       "      <th>calories</th>\n",
       "      <th>protein</th>\n",
       "      <th>fat</th>\n",
       "      <th>sodium</th>\n",
       "      <th>fiber</th>\n",
       "      <th>carbo</th>\n",
       "      <th>sugars</th>\n",
       "      <th>potass</th>\n",
       "      <th>vitamins</th>\n",
       "      <th>shelf</th>\n",
       "      <th>weight</th>\n",
       "      <th>cups</th>\n",
       "      <th>rating</th>\n",
       "    </tr>\n",
       "  </thead>\n",
       "  <tbody>\n",
       "    <tr>\n",
       "      <th>0</th>\n",
       "      <td>100%_Natural_Bran</td>\n",
       "      <td>Q</td>\n",
       "      <td>C</td>\n",
       "      <td>120</td>\n",
       "      <td>3.0</td>\n",
       "      <td>1</td>\n",
       "      <td>180</td>\n",
       "      <td>2.00</td>\n",
       "      <td>8.000000</td>\n",
       "      <td>8.0</td>\n",
       "      <td>135.000000</td>\n",
       "      <td>0</td>\n",
       "      <td>3</td>\n",
       "      <td>1.00</td>\n",
       "      <td>1.00</td>\n",
       "      <td>33.983679</td>\n",
       "    </tr>\n",
       "    <tr>\n",
       "      <th>1</th>\n",
       "      <td>All-Bran</td>\n",
       "      <td>K</td>\n",
       "      <td>C</td>\n",
       "      <td>70</td>\n",
       "      <td>4.0</td>\n",
       "      <td>1</td>\n",
       "      <td>180</td>\n",
       "      <td>1.75</td>\n",
       "      <td>14.792763</td>\n",
       "      <td>5.0</td>\n",
       "      <td>90.000000</td>\n",
       "      <td>25</td>\n",
       "      <td>3</td>\n",
       "      <td>1.00</td>\n",
       "      <td>0.33</td>\n",
       "      <td>59.425505</td>\n",
       "    </tr>\n",
       "    <tr>\n",
       "      <th>2</th>\n",
       "      <td>All-Bran_with_Extra_Fiber</td>\n",
       "      <td>K</td>\n",
       "      <td>C</td>\n",
       "      <td>50</td>\n",
       "      <td>4.0</td>\n",
       "      <td>0</td>\n",
       "      <td>140</td>\n",
       "      <td>1.75</td>\n",
       "      <td>8.000000</td>\n",
       "      <td>7.0</td>\n",
       "      <td>90.000000</td>\n",
       "      <td>25</td>\n",
       "      <td>3</td>\n",
       "      <td>1.00</td>\n",
       "      <td>0.50</td>\n",
       "      <td>93.704912</td>\n",
       "    </tr>\n",
       "    <tr>\n",
       "      <th>3</th>\n",
       "      <td>Almond_Delight</td>\n",
       "      <td>R</td>\n",
       "      <td>C</td>\n",
       "      <td>110</td>\n",
       "      <td>2.0</td>\n",
       "      <td>2</td>\n",
       "      <td>200</td>\n",
       "      <td>1.00</td>\n",
       "      <td>14.000000</td>\n",
       "      <td>8.0</td>\n",
       "      <td>93.657895</td>\n",
       "      <td>25</td>\n",
       "      <td>3</td>\n",
       "      <td>1.00</td>\n",
       "      <td>0.75</td>\n",
       "      <td>34.384843</td>\n",
       "    </tr>\n",
       "    <tr>\n",
       "      <th>4</th>\n",
       "      <td>Apple_Cinnamon_Cheerios</td>\n",
       "      <td>G</td>\n",
       "      <td>C</td>\n",
       "      <td>110</td>\n",
       "      <td>2.0</td>\n",
       "      <td>2</td>\n",
       "      <td>180</td>\n",
       "      <td>1.50</td>\n",
       "      <td>10.500000</td>\n",
       "      <td>10.0</td>\n",
       "      <td>70.000000</td>\n",
       "      <td>25</td>\n",
       "      <td>1</td>\n",
       "      <td>1.00</td>\n",
       "      <td>0.75</td>\n",
       "      <td>29.509541</td>\n",
       "    </tr>\n",
       "    <tr>\n",
       "      <th>5</th>\n",
       "      <td>Apple_Jacks</td>\n",
       "      <td>K</td>\n",
       "      <td>C</td>\n",
       "      <td>110</td>\n",
       "      <td>2.0</td>\n",
       "      <td>0</td>\n",
       "      <td>125</td>\n",
       "      <td>1.00</td>\n",
       "      <td>11.000000</td>\n",
       "      <td>7.0</td>\n",
       "      <td>30.000000</td>\n",
       "      <td>25</td>\n",
       "      <td>2</td>\n",
       "      <td>1.00</td>\n",
       "      <td>1.00</td>\n",
       "      <td>33.174094</td>\n",
       "    </tr>\n",
       "    <tr>\n",
       "      <th>6</th>\n",
       "      <td>Basic_4</td>\n",
       "      <td>G</td>\n",
       "      <td>C</td>\n",
       "      <td>130</td>\n",
       "      <td>3.0</td>\n",
       "      <td>2</td>\n",
       "      <td>210</td>\n",
       "      <td>2.00</td>\n",
       "      <td>18.000000</td>\n",
       "      <td>8.0</td>\n",
       "      <td>100.000000</td>\n",
       "      <td>25</td>\n",
       "      <td>3</td>\n",
       "      <td>1.33</td>\n",
       "      <td>0.75</td>\n",
       "      <td>37.038562</td>\n",
       "    </tr>\n",
       "    <tr>\n",
       "      <th>7</th>\n",
       "      <td>Bran_Chex</td>\n",
       "      <td>R</td>\n",
       "      <td>C</td>\n",
       "      <td>90</td>\n",
       "      <td>2.0</td>\n",
       "      <td>1</td>\n",
       "      <td>200</td>\n",
       "      <td>4.00</td>\n",
       "      <td>15.000000</td>\n",
       "      <td>6.0</td>\n",
       "      <td>125.000000</td>\n",
       "      <td>25</td>\n",
       "      <td>1</td>\n",
       "      <td>1.00</td>\n",
       "      <td>0.67</td>\n",
       "      <td>49.120253</td>\n",
       "    </tr>\n",
       "    <tr>\n",
       "      <th>8</th>\n",
       "      <td>Bran_Flakes</td>\n",
       "      <td>P</td>\n",
       "      <td>C</td>\n",
       "      <td>90</td>\n",
       "      <td>3.0</td>\n",
       "      <td>0</td>\n",
       "      <td>210</td>\n",
       "      <td>5.00</td>\n",
       "      <td>13.000000</td>\n",
       "      <td>5.0</td>\n",
       "      <td>90.000000</td>\n",
       "      <td>25</td>\n",
       "      <td>3</td>\n",
       "      <td>1.00</td>\n",
       "      <td>0.67</td>\n",
       "      <td>53.313813</td>\n",
       "    </tr>\n",
       "    <tr>\n",
       "      <th>9</th>\n",
       "      <td>Cap'n'Crunch</td>\n",
       "      <td>Q</td>\n",
       "      <td>C</td>\n",
       "      <td>120</td>\n",
       "      <td>1.0</td>\n",
       "      <td>2</td>\n",
       "      <td>220</td>\n",
       "      <td>0.00</td>\n",
       "      <td>12.000000</td>\n",
       "      <td>12.0</td>\n",
       "      <td>35.000000</td>\n",
       "      <td>25</td>\n",
       "      <td>2</td>\n",
       "      <td>1.00</td>\n",
       "      <td>0.75</td>\n",
       "      <td>18.042851</td>\n",
       "    </tr>\n",
       "  </tbody>\n",
       "</table>\n",
       "</div>"
      ],
      "text/plain": [
       "                        name mfr type  calories  protein  fat  sodium  fiber  \\\n",
       "0          100%_Natural_Bran   Q    C       120      3.0    1     180   2.00   \n",
       "1                   All-Bran   K    C        70      4.0    1     180   1.75   \n",
       "2  All-Bran_with_Extra_Fiber   K    C        50      4.0    0     140   1.75   \n",
       "3             Almond_Delight   R    C       110      2.0    2     200   1.00   \n",
       "4    Apple_Cinnamon_Cheerios   G    C       110      2.0    2     180   1.50   \n",
       "5                Apple_Jacks   K    C       110      2.0    0     125   1.00   \n",
       "6                    Basic_4   G    C       130      3.0    2     210   2.00   \n",
       "7                  Bran_Chex   R    C        90      2.0    1     200   4.00   \n",
       "8                Bran_Flakes   P    C        90      3.0    0     210   5.00   \n",
       "9               Cap'n'Crunch   Q    C       120      1.0    2     220   0.00   \n",
       "\n",
       "       carbo  sugars      potass  vitamins  shelf  weight  cups     rating  \n",
       "0   8.000000     8.0  135.000000         0      3    1.00  1.00  33.983679  \n",
       "1  14.792763     5.0   90.000000        25      3    1.00  0.33  59.425505  \n",
       "2   8.000000     7.0   90.000000        25      3    1.00  0.50  93.704912  \n",
       "3  14.000000     8.0   93.657895        25      3    1.00  0.75  34.384843  \n",
       "4  10.500000    10.0   70.000000        25      1    1.00  0.75  29.509541  \n",
       "5  11.000000     7.0   30.000000        25      2    1.00  1.00  33.174094  \n",
       "6  18.000000     8.0  100.000000        25      3    1.33  0.75  37.038562  \n",
       "7  15.000000     6.0  125.000000        25      1    1.00  0.67  49.120253  \n",
       "8  13.000000     5.0   90.000000        25      3    1.00  0.67  53.313813  \n",
       "9  12.000000    12.0   35.000000        25      2    1.00  0.75  18.042851  "
      ]
     },
     "execution_count": 51,
     "metadata": {},
     "output_type": "execute_result"
    }
   ],
   "source": [
    "df.head(10) #we have the top 10 entities"
   ]
  },
  {
   "cell_type": "code",
   "execution_count": 10,
   "id": "78724bb5",
   "metadata": {},
   "outputs": [
    {
     "name": "stderr",
     "output_type": "stream",
     "text": [
      "C:\\Python39\\lib\\site-packages\\seaborn\\_decorators.py:36: FutureWarning: Pass the following variables as keyword args: x, y. From version 0.12, the only valid positional argument will be `data`, and passing other arguments without an explicit keyword will result in an error or misinterpretation.\n",
      "  warnings.warn(\n"
     ]
    },
    {
     "data": {
      "text/plain": [
       "<AxesSubplot:xlabel='type', ylabel='rating'>"
      ]
     },
     "execution_count": 10,
     "metadata": {},
     "output_type": "execute_result"
    },
    {
     "data": {
      "image/png": "[encoded data removed]",
      "text/plain": [
       "<Figure size 432x288 with 1 Axes>"
      ]
     },
     "metadata": {
      "needs_background": "light"
     },
     "output_type": "display_data"
    }
   ],
   "source": [
    "sns.boxplot(df.type, df.rating) #boxplot of consumer rating, grouping by the type.\n",
    "#we have 2 types, COLD and HOT"
   ]
  },
  {
   "cell_type": "code",
   "execution_count": null,
   "id": "d29a0cc3",
   "metadata": {},
   "outputs": [],
   "source": [
    "#POV: Hot cereals has more rating than Cold cereals"
   ]
  },
  {
   "cell_type": "markdown",
   "id": "de082e4d",
   "metadata": {},
   "source": [
    "## Q.9) Is there a relation between sugars, calories, carbs, and fat?"
   ]
  },
  {
   "cell_type": "code",
   "execution_count": 52,
   "id": "2cdd0679",
   "metadata": {},
   "outputs": [
    {
     "data": {
      "text/plain": [
       "<AxesSubplot:>"
      ]
     },
     "execution_count": 52,
     "metadata": {},
     "output_type": "execute_result"
    },
    {
     "data": {
      "image/png": "[encoded data removed]",
      "text/plain": [
       "<Figure size 432x288 with 2 Axes>"
      ]
     },
     "metadata": {
      "needs_background": "light"
     },
     "output_type": "display_data"
    }
   ],
   "source": [
    "sns.heatmap(df[['sugars','calories','carbo','fat']].corr(),annot=True) \n",
    "#Create a hashmap which shows correlation between every 2 attributes"
   ]
  },
  {
   "cell_type": "code",
   "execution_count": null,
   "id": "d0837c34",
   "metadata": {},
   "outputs": [],
   "source": [
    "#negative means they if one attribute increases, the other decreases.\n",
    "#carbo and fat are badly correlated as value is near to 0"
   ]
  },
  {
   "cell_type": "markdown",
   "id": "0015d332",
   "metadata": {},
   "source": [
    "## Q.10) Which manufacturers produce cereal with highest calories?"
   ]
  },
  {
   "cell_type": "code",
   "execution_count": 53,
   "id": "a4dd606c",
   "metadata": {},
   "outputs": [
    {
     "data": {
      "text/plain": [
       "45    K\n",
       "Name: mfr, dtype: object"
      ]
     },
     "execution_count": 53,
     "metadata": {},
     "output_type": "execute_result"
    }
   ],
   "source": [
    "df.mfr[df.calories == df.calories.max()] #max calories"
   ]
  },
  {
   "cell_type": "code",
   "execution_count": null,
   "id": "6d61547f",
   "metadata": {},
   "outputs": [],
   "source": [
    "#manufacture K produces the cereals with highest calories, i.e. 45"
   ]
  },
  {
   "cell_type": "markdown",
   "id": "c7b83dd6",
   "metadata": {},
   "source": [
    "## Q.11) Use correlation tests and visualization to identify if the two variables caloriesand consumer rating associated?"
   ]
  },
  {
   "cell_type": "code",
   "execution_count": 64,
   "id": "1cac590c",
   "metadata": {},
   "outputs": [
    {
     "data": {
      "text/plain": [
       "-0.6743360496799723"
      ]
     },
     "execution_count": 64,
     "metadata": {},
     "output_type": "execute_result"
    }
   ],
   "source": [
    "df.calories.corr(df.rating) #correlation value - r"
   ]
  },
  {
   "cell_type": "code",
   "execution_count": 65,
   "id": "c5828f77",
   "metadata": {},
   "outputs": [
    {
     "data": {
      "text/plain": [
       "<matplotlib.collections.PathCollection at 0x21575f11b20>"
      ]
     },
     "execution_count": 65,
     "metadata": {},
     "output_type": "execute_result"
    },
    {
     "data": {
      "image/png": "[encoded data removed]",
      "text/plain": [
       "<Figure size 432x288 with 1 Axes>"
      ]
     },
     "metadata": {
      "needs_background": "light"
     },
     "output_type": "display_data"
    }
   ],
   "source": [
    "plt.scatter(df.calories, df.rating) #scatter plot of ratings vs calories"
   ]
  },
  {
   "cell_type": "code",
   "execution_count": 68,
   "id": "46460780",
   "metadata": {
    "scrolled": true
   },
   "outputs": [
    {
     "data": {
      "text/plain": [
       "<seaborn.axisgrid.FacetGrid at 0x21575f64eb0>"
      ]
     },
     "execution_count": 68,
     "metadata": {},
     "output_type": "execute_result"
    },
    {
     "data": {
      "image/png": "[encoded data removed]",
      "text/plain": [
       "<Figure size 360x360 with 1 Axes>"
      ]
     },
     "metadata": {
      "needs_background": "light"
     },
     "output_type": "display_data"
    }
   ],
   "source": [
    "sns.lmplot(x = 'calories', y = 'rating', data = df)"
   ]
  },
  {
   "cell_type": "code",
   "execution_count": null,
   "id": "cf611c6b",
   "metadata": {},
   "outputs": [],
   "source": [
    "#POV: calories and ratings are correlated negatively and is correlated good enough.\n",
    "#if ratings increases, calories would decrease."
   ]
  },
  {
   "cell_type": "markdown",
   "id": "0b7c8438",
   "metadata": {},
   "source": [
    "## Q.12) Use correlation tests and visualization to identify if the two variables shelf and consumer rating associated?"
   ]
  },
  {
   "cell_type": "code",
   "execution_count": 70,
   "id": "60e25d13",
   "metadata": {},
   "outputs": [
    {
     "data": {
      "text/plain": [
       "0.0019730207509652386"
      ]
     },
     "execution_count": 70,
     "metadata": {},
     "output_type": "execute_result"
    }
   ],
   "source": [
    "df.shelf.corr(df.rating) #correlation value = r"
   ]
  },
  {
   "cell_type": "code",
   "execution_count": 71,
   "id": "b1aebe51",
   "metadata": {},
   "outputs": [
    {
     "data": {
      "text/plain": [
       "<matplotlib.collections.PathCollection at 0x21575e4df40>"
      ]
     },
     "execution_count": 71,
     "metadata": {},
     "output_type": "execute_result"
    },
    {
     "data": {
      "image/png": "[encoded data removed]",
      "text/plain": [
       "<Figure size 432x288 with 1 Axes>"
      ]
     },
     "metadata": {
      "needs_background": "light"
     },
     "output_type": "display_data"
    }
   ],
   "source": [
    "plt.scatter(df.shelf, df.rating) #scatter plot"
   ]
  },
  {
   "cell_type": "code",
   "execution_count": 72,
   "id": "5eb3e64f",
   "metadata": {
    "scrolled": true
   },
   "outputs": [
    {
     "data": {
      "text/plain": [
       "<seaborn.axisgrid.FacetGrid at 0x215761a4ca0>"
      ]
     },
     "execution_count": 72,
     "metadata": {},
     "output_type": "execute_result"
    },
    {
     "data": {
      "image/png": "[encoded data removed]",
      "text/plain": [
       "<Figure size 360x360 with 1 Axes>"
      ]
     },
     "metadata": {
      "needs_background": "light"
     },
     "output_type": "display_data"
    }
   ],
   "source": [
    "sns.lmplot(x = 'shelf', y = 'rating', data = df)"
   ]
  },
  {
   "cell_type": "code",
   "execution_count": null,
   "id": "1af37bd8",
   "metadata": {},
   "outputs": [],
   "source": [
    "#POV: flat line and the value of r shows very poor correlation\n",
    "#almost no relation between ratings and shelf"
   ]
  },
  {
   "cell_type": "markdown",
   "id": "0533693c",
   "metadata": {},
   "source": [
    "## Q.13) Is there a relation between manufacturer and rating?"
   ]
  },
  {
   "cell_type": "code",
   "execution_count": 76,
   "id": "75a7810a",
   "metadata": {},
   "outputs": [
    {
     "data": {
      "text/plain": [
       "<AxesSubplot:xlabel='mfr', ylabel='rating'>"
      ]
     },
     "execution_count": 76,
     "metadata": {},
     "output_type": "execute_result"
    },
    {
     "data": {
      "image/png": "[encoded data removed]",
      "text/plain": [
       "<Figure size 432x288 with 1 Axes>"
      ]
     },
     "metadata": {
      "needs_background": "light"
     },
     "output_type": "display_data"
    }
   ],
   "source": [
    "sns.histplot(data = df, x = 'mfr', y = 'rating') #mfr vs rating"
   ]
  },
  {
   "cell_type": "code",
   "execution_count": 77,
   "id": "ffc174f6",
   "metadata": {
    "scrolled": true
   },
   "outputs": [
    {
     "data": {
      "text/plain": [
       "<matplotlib.collections.PathCollection at 0x215764318e0>"
      ]
     },
     "execution_count": 77,
     "metadata": {},
     "output_type": "execute_result"
    },
    {
     "data": {
      "image/png": "[encoded data removed]",
      "text/plain": [
       "<Figure size 432x288 with 1 Axes>"
      ]
     },
     "metadata": {
      "needs_background": "light"
     },
     "output_type": "display_data"
    }
   ],
   "source": [
    "plt.scatter(df.mfr, df.rating) #scatter plot"
   ]
  },
  {
   "cell_type": "code",
   "execution_count": null,
   "id": "b93c28a0",
   "metadata": {},
   "outputs": [],
   "source": [
    "#for some it is, for eg: N manufacture has rating over 50, P has below 60, R and G below 50, etc."
   ]
  },
  {
   "cell_type": "markdown",
   "id": "f3401c5f",
   "metadata": {},
   "source": [
    "## Q.14) Which nutrients are essential for a good rating for a cereal?"
   ]
  },
  {
   "cell_type": "code",
   "execution_count": 13,
   "id": "af003d4a",
   "metadata": {},
   "outputs": [
    {
     "data": {
      "text/plain": [
       "<AxesSubplot:>"
      ]
     },
     "execution_count": 13,
     "metadata": {},
     "output_type": "execute_result"
    },
    {
     "data": {
      "image/png": "[encoded data removed]",
      "text/plain": [
       "<Figure size 720x504 with 2 Axes>"
      ]
     },
     "metadata": {
      "needs_background": "light"
     },
     "output_type": "display_data"
    }
   ],
   "source": [
    "plt.figure(figsize = (10,7))\n",
    "sns.heatmap(df[[ 'calories', 'protein', 'fat', 'sodium', 'fiber',\n",
    "       'carbo', 'sugars', 'potass', 'vitamins','rating']].corr(), annot = True, cmap=\"YlGnBu\")\n",
    "\n"
   ]
  },
  {
   "cell_type": "code",
   "execution_count": null,
   "id": "97d79428",
   "metadata": {},
   "outputs": [],
   "source": [
    "#as we can see that the correlation between the sugars and rating is highly negetive this represents that less sugars then more rating"
   ]
  },
  {
   "cell_type": "markdown",
   "id": "e5c729db",
   "metadata": {},
   "source": [
    "## Q.15) Design a Linear regression model to predict the rating of a cereal based on top 3 related nutrients. Tabulate the accuracy of the model using an 80,20 split."
   ]
  },
  {
   "cell_type": "code",
   "execution_count": 11,
   "id": "ef70fb5b",
   "metadata": {},
   "outputs": [
    {
     "data": {
      "text/html": [
       "<div>\n",
       "<style scoped>\n",
       "    .dataframe tbody tr th:only-of-type {\n",
       "        vertical-align: middle;\n",
       "    }\n",
       "\n",
       "    .dataframe tbody tr th {\n",
       "        vertical-align: top;\n",
       "    }\n",
       "\n",
       "    .dataframe thead th {\n",
       "        text-align: right;\n",
       "    }\n",
       "</style>\n",
       "<table border=\"1\" class=\"dataframe\">\n",
       "  <thead>\n",
       "    <tr style=\"text-align: right;\">\n",
       "      <th></th>\n",
       "      <th>0</th>\n",
       "    </tr>\n",
       "  </thead>\n",
       "  <tbody>\n",
       "    <tr>\n",
       "      <th>0</th>\n",
       "      <td>24.258373</td>\n",
       "    </tr>\n",
       "    <tr>\n",
       "      <th>1</th>\n",
       "      <td>52.088557</td>\n",
       "    </tr>\n",
       "    <tr>\n",
       "      <th>2</th>\n",
       "      <td>65.474210</td>\n",
       "    </tr>\n",
       "    <tr>\n",
       "      <th>3</th>\n",
       "      <td>33.693269</td>\n",
       "    </tr>\n",
       "    <tr>\n",
       "      <th>4</th>\n",
       "      <td>30.166113</td>\n",
       "    </tr>\n",
       "    <tr>\n",
       "      <th>...</th>\n",
       "      <td>...</td>\n",
       "    </tr>\n",
       "    <tr>\n",
       "      <th>71</th>\n",
       "      <td>47.078921</td>\n",
       "    </tr>\n",
       "    <tr>\n",
       "      <th>72</th>\n",
       "      <td>26.938325</td>\n",
       "    </tr>\n",
       "    <tr>\n",
       "      <th>73</th>\n",
       "      <td>51.347317</td>\n",
       "    </tr>\n",
       "    <tr>\n",
       "      <th>74</th>\n",
       "      <td>51.347317</td>\n",
       "    </tr>\n",
       "    <tr>\n",
       "      <th>75</th>\n",
       "      <td>38.261032</td>\n",
       "    </tr>\n",
       "  </tbody>\n",
       "</table>\n",
       "<p>76 rows × 1 columns</p>\n",
       "</div>"
      ],
      "text/plain": [
       "            0\n",
       "0   24.258373\n",
       "1   52.088557\n",
       "2   65.474210\n",
       "3   33.693269\n",
       "4   30.166113\n",
       "..        ...\n",
       "71  47.078921\n",
       "72  26.938325\n",
       "73  51.347317\n",
       "74  51.347317\n",
       "75  38.261032\n",
       "\n",
       "[76 rows x 1 columns]"
      ]
     },
     "execution_count": 11,
     "metadata": {},
     "output_type": "execute_result"
    }
   ],
   "source": [
    "import scipy.stats as stats\n",
    "from sklearn.linear_model import LinearRegression\n",
    "\n",
    "\n",
    "a1 = df[['rating']]\n",
    "a2 = df[['sugars','fat','protein']]\n",
    "\n",
    "\n",
    "model =LinearRegression().fit(a2,a1)\n",
    "pd.DataFrame(model.predict(a2))"
   ]
  },
  {
   "cell_type": "code",
   "execution_count": null,
   "id": "7fa084d0",
   "metadata": {},
   "outputs": [],
   "source": []
  }
 ],
 "metadata": {
  "kernelspec": {
   "display_name": "Python 3 (ipykernel)",
   "language": "python",
   "name": "python3"
  },
  "language_info": {
   "codemirror_mode": {
    "name": "ipython",
    "version": 3
   },
   "file_extension": ".py",
   "mimetype": "text/x-python",
   "name": "python",
   "nbconvert_exporter": "python",
   "pygments_lexer": "ipython3",
   "version": "3.9.12"
  }
 },
 "nbformat": 4,
 "nbformat_minor": 5
}
